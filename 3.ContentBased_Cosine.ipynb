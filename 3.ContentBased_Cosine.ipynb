{
 "cells": [
  {
   "cell_type": "code",
   "execution_count": 1,
   "metadata": {
    "id": "QrOeE0DduQFr"
   },
   "outputs": [],
   "source": [
    "#!pip install gensim\n",
    "#!pip install jieba\n",
    "#!pip install underthesea"
   ]
  },
  {
   "cell_type": "code",
   "execution_count": 2,
   "metadata": {
    "id": "sTLO7wyGt0t0"
   },
   "outputs": [],
   "source": [
    "import numpy as np\n",
    "import pandas as pd\n",
    "import matplotlib.pyplot as plt\n",
    "from sklearn.feature_extraction.text import TfidfVectorizer\n",
    "from sklearn.metrics.pairwise import linear_kernel, cosine_similarity\n",
    "from underthesea import word_tokenize, pos_tag, sent_tokenize\n",
    "import warnings\n",
    "#from gensim import corpora, models, similarities\n",
    "import jieba\n",
    "import re"
   ]
  },
  {
   "cell_type": "code",
   "execution_count": 3,
   "metadata": {
    "id": "qnWGjZfov3cI"
   },
   "outputs": [],
   "source": [
    "with open('files/vietnamese-stopwords.txt', 'r', encoding='utf-8') as file:\n",
    "    stop_words = file.read()\n",
    "\n",
    "stop_words = stop_words.split('\\n')"
   ]
  },
  {
   "cell_type": "markdown",
   "metadata": {
    "id": "lu8DXDJ-wYxT"
   },
   "source": [
    "# Underthesea\n",
    "#### word_tokenize, pos_tag, sent_tokenize\n",
    "- link: https://github.com/undertheseanlp/underthesea"
   ]
  },
  {
   "cell_type": "code",
   "execution_count": 4,
   "metadata": {
    "id": "uAgQqYeev_6Y"
   },
   "outputs": [],
   "source": [
    "df1= pd.read_csv(\"project2_shopee_final.csv\",index_col=0, encoding=\"utf-8\").astype(str)"
   ]
  },
  {
   "cell_type": "code",
   "execution_count": 5,
   "metadata": {
    "id": "aJ4HxxLh1j_b",
    "scrolled": false
   },
   "outputs": [
    {
     "data": {
      "text/html": [
       "<div>\n",
       "<style scoped>\n",
       "    .dataframe tbody tr th:only-of-type {\n",
       "        vertical-align: middle;\n",
       "    }\n",
       "\n",
       "    .dataframe tbody tr th {\n",
       "        vertical-align: top;\n",
       "    }\n",
       "\n",
       "    .dataframe thead th {\n",
       "        text-align: right;\n",
       "    }\n",
       "</style>\n",
       "<table border=\"1\" class=\"dataframe\">\n",
       "  <thead>\n",
       "    <tr style=\"text-align: right;\">\n",
       "      <th></th>\n",
       "      <th>product_id</th>\n",
       "      <th>product_name</th>\n",
       "      <th>category</th>\n",
       "      <th>sub_category</th>\n",
       "      <th>link</th>\n",
       "      <th>image</th>\n",
       "      <th>price</th>\n",
       "      <th>rating</th>\n",
       "      <th>description</th>\n",
       "    </tr>\n",
       "  </thead>\n",
       "  <tbody>\n",
       "    <tr>\n",
       "      <th>0</th>\n",
       "      <td>231475</td>\n",
       "      <td>Bộ Quần Áo Thể Thao Thời Trang Nam Q5SHOP Form...</td>\n",
       "      <td>Thời Trang Nam</td>\n",
       "      <td>Đồ Bộ</td>\n",
       "      <td>https://shopee.vn/B%E1%BB%99-Qu%E1%BA%A7n-%C3%...</td>\n",
       "      <td>https://cf.shopee.vn/file/e96fe533edf419d544c7...</td>\n",
       "      <td>79000.0</td>\n",
       "      <td>4.9</td>\n",
       "      <td>giới thiệu quần áo kết hình ảnh chụp không đền...</td>\n",
       "    </tr>\n",
       "    <tr>\n",
       "      <th>1</th>\n",
       "      <td>232886</td>\n",
       "      <td>SÉT ĐỒ THỂ THAO NAM🚗 MẪU MONTER ĐỘC ĐÁO HÀNG B...</td>\n",
       "      <td>Thời Trang Nam</td>\n",
       "      <td>Đồ Bộ</td>\n",
       "      <td>https://shopee.vn/S%C3%89T-%C4%90%E1%BB%92-TH%...</td>\n",
       "      <td>https://cf.shopee.vn/file/b76fe4944cb0b0e6bb96...</td>\n",
       "      <td>59000.0</td>\n",
       "      <td>4.7</td>\n",
       "      <td>quần áo thể dãn mùa hè chất lạnh mẫu bảng sét ...</td>\n",
       "    </tr>\n",
       "  </tbody>\n",
       "</table>\n",
       "</div>"
      ],
      "text/plain": [
       "  product_id                                       product_name  \\\n",
       "0     231475  Bộ Quần Áo Thể Thao Thời Trang Nam Q5SHOP Form...   \n",
       "1     232886  SÉT ĐỒ THỂ THAO NAM🚗 MẪU MONTER ĐỘC ĐÁO HÀNG B...   \n",
       "\n",
       "         category sub_category  \\\n",
       "0  Thời Trang Nam        Đồ Bộ   \n",
       "1  Thời Trang Nam        Đồ Bộ   \n",
       "\n",
       "                                                link  \\\n",
       "0  https://shopee.vn/B%E1%BB%99-Qu%E1%BA%A7n-%C3%...   \n",
       "1  https://shopee.vn/S%C3%89T-%C4%90%E1%BB%92-TH%...   \n",
       "\n",
       "                                               image    price rating  \\\n",
       "0  https://cf.shopee.vn/file/e96fe533edf419d544c7...  79000.0    4.9   \n",
       "1  https://cf.shopee.vn/file/b76fe4944cb0b0e6bb96...  59000.0    4.7   \n",
       "\n",
       "                                         description  \n",
       "0  giới thiệu quần áo kết hình ảnh chụp không đền...  \n",
       "1  quần áo thể dãn mùa hè chất lạnh mẫu bảng sét ...  "
      ]
     },
     "execution_count": 5,
     "metadata": {},
     "output_type": "execute_result"
    }
   ],
   "source": [
    "df1.head(2)"
   ]
  },
  {
   "cell_type": "code",
   "execution_count": 6,
   "metadata": {},
   "outputs": [],
   "source": [
    "df = pd.DataFrame(df1, columns =['description'])"
   ]
  },
  {
   "cell_type": "code",
   "execution_count": 7,
   "metadata": {
    "id": "VLD-LUBJ1Pos"
   },
   "outputs": [],
   "source": [
    "# bug_ can not decode with float, should include .astype(str) when read csv file\n",
    "# word_tokenize\n",
    "df[\"description_wt\"]=df['description'].apply(lambda x: word_tokenize(x, format=\"text\"))"
   ]
  },
  {
   "cell_type": "code",
   "execution_count": 8,
   "metadata": {
    "colab": {
     "base_uri": "https://localhost:8080/",
     "height": 112
    },
    "id": "2WVOyuyZ2TTq",
    "outputId": "8b7169d5-2245-4a01-a8d9-be08b38086c0",
    "scrolled": true
   },
   "outputs": [
    {
     "data": {
      "text/html": [
       "<div>\n",
       "<style scoped>\n",
       "    .dataframe tbody tr th:only-of-type {\n",
       "        vertical-align: middle;\n",
       "    }\n",
       "\n",
       "    .dataframe tbody tr th {\n",
       "        vertical-align: top;\n",
       "    }\n",
       "\n",
       "    .dataframe thead th {\n",
       "        text-align: right;\n",
       "    }\n",
       "</style>\n",
       "<table border=\"1\" class=\"dataframe\">\n",
       "  <thead>\n",
       "    <tr style=\"text-align: right;\">\n",
       "      <th></th>\n",
       "      <th>description</th>\n",
       "      <th>description_wt</th>\n",
       "    </tr>\n",
       "  </thead>\n",
       "  <tbody>\n",
       "    <tr>\n",
       "      <th>0</th>\n",
       "      <td>giới thiệu quần áo kết hình ảnh chụp không đền...</td>\n",
       "      <td>giới_thiệu quần_áo kết hình_ảnh chụp không đền...</td>\n",
       "    </tr>\n",
       "    <tr>\n",
       "      <th>1</th>\n",
       "      <td>quần áo thể dãn mùa hè chất lạnh mẫu bảng sét ...</td>\n",
       "      <td>quần_áo thể dãn mùa hè chất lạnh mẫu bảng sét ...</td>\n",
       "    </tr>\n",
       "  </tbody>\n",
       "</table>\n",
       "</div>"
      ],
      "text/plain": [
       "                                         description  \\\n",
       "0  giới thiệu quần áo kết hình ảnh chụp không đền...   \n",
       "1  quần áo thể dãn mùa hè chất lạnh mẫu bảng sét ...   \n",
       "\n",
       "                                      description_wt  \n",
       "0  giới_thiệu quần_áo kết hình_ảnh chụp không đền...  \n",
       "1  quần_áo thể dãn mùa hè chất lạnh mẫu bảng sét ...  "
      ]
     },
     "execution_count": 8,
     "metadata": {},
     "output_type": "execute_result"
    }
   ],
   "source": [
    "df.head(2)"
   ]
  },
  {
   "cell_type": "code",
   "execution_count": 9,
   "metadata": {},
   "outputs": [
    {
     "data": {
      "text/plain": [
       "'giới_thiệu quần_áo kết hình_ảnh chụp không đền tiền gấp hình hoàn tiền sản_phẩm không mô_tả kết hàng mặc không màu không xù lông giặt máy thoải_mái freeship tất đơn hàng không hàng hà nội freeship không liên_hệ hướng mặc tập gái học chất_liệu vải áo_quần vải cotton thoáng mát túi túi thiết_kế đẹp_mắt chống đồ thấm hút mồ_hôi thoáng mát dãn tốt set sản_phẩm quần_đùi áo_cộc bảng lựa bảng thông thể'"
      ]
     },
     "execution_count": 9,
     "metadata": {},
     "output_type": "execute_result"
    }
   ],
   "source": [
    "df[\"description_wt\"][0]"
   ]
  },
  {
   "cell_type": "markdown",
   "metadata": {
    "id": "bRLniR9_-54G"
   },
   "source": [
    "# Cosine_similarity\n",
    "- link https://scikit-learn.org/stable/modules/generated/sklearn.metrics.pairwise.cosine_similarity.html\n",
    "- link https://en.wikipedia.org/wiki/Cosine_similarity\n",
    "![image.png](data:image/png;base64,iVBORw0KGgoAAAANSUhEUgAAAyAAAADQCAYAAAD/CgXsAAAgAElEQVR4nO3dd5xcVf3/8ddueiGFJEAChBJI6L2F3ruAgChSrV+UomJDBFFBLCgCIiCCnSIIIihKRzpI74TeIYQWQhpJ5vfH+97fuTt7p9+Zu7P7fj4e89gpd+49Mzu7c849n8/ngJmZmZmZmZmZmZmZmZmZmZmZmZmZmZmZmZmZmZmZmZmZmZmZmZmZmZmZmZmZmZmZmZmZmZmZmZmZmZmZmZmZmZmZmZmZmZmZmZmZmZmZmZmZmZmZmZmZmZmZmZmZmZmZmZlF1gIOja5PBf4E/BZYM7cWmZmZmZlZr3UKcDfwDeAx4HrgDeAlYLkc22VmZmZmZr3QtcAs4O/A8tF9OwMF4KC8GmVmZmZmZr3PSOBN4HlgqcT96wBzgH3zaJRZX9KZdwPMzMzMWmhVYAngLBR2lbx/APBkHo0y60s8ADEzM7O+ZHVgIfCPovvXA95CMyNm1kQegJiZmVlfsjHwDPBy4r5OYFPgQWB2Ho0y60s8ADEzM7O+ohOV3X0I5XvERqMSvPejRHQzayIPQMzMzKyvmIDK7N5fdP+qwBDg3pa3yKwP8gDEzMzM+orV0EDjrqL710IzH8UDEzMzMzMzs7qNBFZB1a6SxgGTgY6Wt8jMzMzMzMzMzMzMzMzMzMzMzMzMzMzMzMzMrAdyspWZmZn1Vh001tcp4HVBzDLnAYiZmZn1RhOAX6NFBusZRHQCtwDHZ9koM4P+eTfAzMzMrAkGAtsBizWwj/kZtcXMEjwAMTMzs97oZeBPwOHR7XeAy4CFVBcB0gE80JymmZmZmZlZbzQKuAOFYM0DPp1vc1piYHTpTWH2Heg1DUi5dObYLqtTb/pwmpmZmRVbG7gBGINmQXYE7su1Rc3zLWBfNOA6Cbgq3+Zk5jDgM8CixH0daDZrFvAS+p3+G3ix5a0zMzMzMytyMLAAdcz/h2ZGeptJwLuEyl29JXm+A7iS8LrKXV4DPptPM83MzMzMujqN0FE9n94XBfIbunbGz823OZkZCUxDr+lh4KjE5Rj0e32Y8Lo/AvbMpaVmZmZmZgkjgFtRJ3UR8IV8m5OpDYE5wGzgUfQar6F35EeshvJ3CsCPSmwzHDgF/V4LwPX0jtduZmZmZm1uDWA66qS+A2yQb3My0Q/4O3pNVwAnRtefBAbl2K6sHEiY3fhEme1GoddcQHkgSzW/aWZmZmZmlR1AyAe5Fy1U2M52IryendDMTgF4GxiX8bFGAJsAGwErVrH9xGjbqdT/Pv8SvZ4PgDUrbHtdtO2rwLJ1Hs/MzMzMLHOnE86q/zbntjRiECGs7H9oNuST0e3ZqAJYlkajssYL0SzDSmW2nQA8gQZH9wFj6zheP8KgYhowuMy2Q4D7o20foXfM/piZmZlZL7EYcBvqrC4EPpdvc+p2ACGnZb/ovh2j24uAnZtwzKnA+9Fxr0RrcaT5M2EgtFWdxxqDZjMKwCUVtt0G+DDa9pw6j2dmZmZm1jRrAG8SwpXWz7c5NRsBPIbafwthILAOIWm7WSVpjybMIB2Z8ngyzO24Bo6zERogFoCvldluXUL+x2tUFx5mZmZmZtZynwbmEkKYss6ZaKZ4EPARsGvi/iUJMxTfa9KxBwH/ICTzr5V4bAXg5eixaykfNlXJ4YQZnsOB1aNjrQVsARyEQuhmR9s9Tv2zLWZmZmZmLXEt4Wz+V3JuS7XGEzr5V9O15Oxw4BnCeifNsiJagbwA3IhyMDoIFbleB1Zp8Bi/pevaJouKbseXW9AMyTINHs/MzMzMrKm2IswWPEX7VE76CWrzHGDTosf6ERLTr6O5Cy7uSwi1+ibwecJA4aAG9z0QJbwXgPlopiW+vJ847kLg9zQ+2DEzMzMza6rRwIOEDu7u+TanalNQJ7wAXIpCnJKXQcDlhMpRza4GdWZ0rFnRJZ55aXQhwPGE1/lnYOXEZTVga+DrwHPRNjOAvRo8ppmZmZlZ08TrSxSAM3JuSy1+R2j3M8DtwF2Jyx2ExRbfRjkh5YxF+RSlqllVMhK4J9GmB6mv5G6x7QkhV+WqlE1CA60CCkurdhZrALA57ZX3Y2ZmZmZtahdCpaiHgMXzbU7VNkFhV2l5EGmXD1GFqHJOj/a5dJ1t6g9ckzjmzTSWeB77TrS/eXQPMyv2lcTxv1jl/reOtt+/3gZa/frn3QAzMzOzFloCOBXlGMxFycvv5Nqi6nQC30Wd+3eBi1AFrOIcj0UoTGsXlBg+HnigzH4vRwsFvl5nu76O1h4pRG3ZCjgG+H6d+4vFiyjOQCV2y3kwcX1ylfufhn7319bYLsuAByBm1heMAo4ChgIv0LpFqj6PwgMWFd0/HyVRPoVW7H2lRe0xMziJkLB8Oqrg1A52iS4Av0EzBKVsAeyEBi3jK+z3vw20aXPg+ESbZgLfii63AdfXud+hKM8DtJp6pQFicgZrQZXHeA04rcZ2mZmZVe27hOn5l2h+UiZopeVXqBwi8RpwClpUzMyaax80a1BAeQvt8nc3mFAR6lVgQoXtVySsjVFuJmIlNFDYso42jUEzKwW0IOJYNHC4m7AmR6X8k1JWJKxq/pMqto+rghWAz1SxfSdwIY3P0piZmaWaiEIL4i+n6bSmVvz6hA7As8BNKDb6v8D9aCYmORC5gmzips0s3TKEikmzqJxX0JMcSvhfcWwV249CJzcKKGm9lIPRDG2lPJFiHcDZ0f7nooTx2CaE0sZ/pL4ywPsQXu+nKmy7Fl1XtK9mFfSJ6DNQzXtpZmZWszMIA4+FaFCwQQuOeyDhC3TflMeXAA4gdBIKwH4taJdZX9QJ/IXwt3Z8+c17lNEoByI+mVFNhanBKK+jANxA6ZK4v0aVo4bW2Kb9CTNJJ6c8fgxhPZBqZiSKnRw9/wNUdjfNYOATKEQr/r2eUOX+t4u2r2fmx8zMrKy1UEzyIhSG9S760mlFvf9TCQuFrVRmu/gMZAE4twXtMuuLDkYnIApoFrLWDneevkXoYB9R5XM6gH9Gz3ma9LDT/qiE779qbM9kQnjp7Wjl9WKD0SKI8cmf1VK2KaUDuCp67kzgRPT/+7jo58+AS4B76TqLfC5Kuq/GN4H3qL/yl5mZWUkXoS+mR9C0/KvR7S+04NjxSsSPAMPKbDcRneWLw7DMLFuTCB3md6k93ChPK6KwogLwKLXlrMTrhcwivaO9BEruriUMaThK2i+gDvx6ZbZdnbAeyR0oLKwayfCxai6Pof/ptRRWugLlALkYU078xptZb7U1sHd0/UzUAZmJkjeXa/KxlyDMejyOkilLGUQIj3ijmY0y64P6oyIPcQf8h5QvSdvTTEX/QxahcKmZNTz3djT4mkv6zMAkFN5Vy/uxBXpPbwEuQPlspTwGfAMtItgJbAP8vYpjjIie+3SJx+eigeSTKOH9DpRzUq0hwJooL6/aillmZmYV9SdM/z+GKlINAO6M7vtzk4+/JSq1W0Cx0OUcQAjBOqzJ7TLraw4j/H3diDq3w2q89NbiEF9FHfcV8m5Ii62GcgE/m3dD+jLPgJhZb7QXSjIE+DkKcepAIQPQ/BmQ1dGAB3SGrpSVUdJkBzqb97cmt8usL5kC/IBQhWkyyv/oV8M+OoC7gP+j+3o+7W4jVCHwxbwb0mJT0KCy3OyNmZlZTYYRqr/8j67Jpn8mVJKp9qzmZDSjUUvS6nnRcWYAy6IOT//oMgZYFfgKWpOkgKrQbFPD/s2ssr2pPo+g3OUOSleRaldDgWdQGFVfcxrKTRmTd0P6Ms+AmFlvcwhKjCwAP0VT7bFXo58jUJ7GSxX2tTMq3TkGxS4fRPl8DtBgY/3o+jBUiWZhdLsDJXGOQbHXr6JE+e8D0yrs18xq8zBKsG5k5qITeB79P+lNhqCk9kvzbkgOPkTrk1RaXd3MzKwqY9HsRgElGA4sevxwQmncDavY39/oeiZ04yqeswKa+ah0VvVFVMPezMysT/EMiJn1JkeispXzUG7F/KLHn41+DgaWqmJ/D6EVeUGx0q9X8ZwpwOLR9d+i8I1+aNAxAg1QtkFVWH6Hwru+hQZFZmZmvZ4HIGbWW0wEvhRdnwnsAuxASEAtAMskth9fxT5/jso0TgHOp3LIFmjxww4UdvUrtA5IsRFoUa1vooXFpqPFtswsW4uhMMyFlTY0MzMzq1W88ni1l5Ob1I5Lo/0/T5gJSTMIVciKVwquZkBkZtVbF8167l7Hc8cBpwPfI5zEMLOMeAbEzHqDNYHPR9dfRTkYaZ2GfmjxrcE0pxTvEDQDAiqr+16Zbeehxbw2QknpK1NdiJeZVacT5Vo9X+Pz1gH+AKyNcslOovcloZvlygMQM2t3HWixv8XQeh8fR53/4gFIAc06/BMlky/fhLZMIuSWPELl6jvxKrwdpK9UbGb1uw/YtsbnfAo4F7gYDVxGZd0oM+t9da3NrO/ZAtg3uv47tPbHBygPJHn5AM2MxKV4lyL7Tv8UlN8BcE8V28ezJR/h2Q+zrH2JUESiWsNR7tcXUWEI95PMmsAzIGbWzvqjZO6BqKb7GVU8J+7oLwYsCbyQYXvWjX7ORRW0ypkKbB5dfwp4OsN2mPV144CfoNmMy4Dj0YA/bVayAPwY/c2el7h/UJPbaNZneQBiZu1sD1TpChSz/VwVz3k5+tmMAchG0c9plK+YtSHqGMWzJWfgMrxmWZqMFgK9Kbo9G5hF92pYHWhQsgAzaxkPQMysXQ0DvhtdfwM4rcrnvRj9HIwGIFkZjTo9oOTztekavrF4dLyt0AKEQ6P7/4RW5TWz7KyBBhuPR7d/kWNbzKyIByBm1q4OAtaLrp9DmNmo5MXE9aUzbM/KhAT0zYD/EhLhO+i+Kvu7aJ2QH6EcEDPLzqZoJvLN6PbSaNBfqprVa2iWxMxawAMQM2tHY9Gq5/PQgOKsGp77GpqhGAxMyLBN8ezHXDTgKE5efQ8NOqah1dEvjq6bWbb6oTDHhwmhjWcAW5bYvgB8khCuZWZN5gGImbWjD4CdUMdhDkpAr9bLwGpogPBhhm36B+U7MAvQgOl9vKaAWTNNRCcXfpu471hCzlUanwwwayEPQMysHc0DXqnzuYtoTsnbD6KLmeVrMjASuDtx31M5tcXMUngAUlkHShodgUI37s23OWZmZlbGBijksdYV0It10H1BUzPLQF4L7EwEPgesmdPxi20HHIDOmBRbCrgUhVd8tpWNqsKSwGdQrGtPMQDF1lca3HaipNwsB8H9o30OKLpUe4yBdE8UNjOz9rIWcD/wVoP7mU22YZpmlqNhwF0oBvoBsl+JuFY7oqTRAnBMyuPboVJ+BeDzLWxXJQOAf6F2PY+ScvP2GbT689/QIlClLBZtcw9wbYVtq7U48G/02bqz6HIzWojqZGB7lKCY5rtohutTGbTHzMzyMRp9zzRqMdJPTJpZG5qMkjELwDNoQJKn46O2FICTUh7/SvTYfGCdFrarkiWBt1Hb3iKU/0zqAJZB/4ybbS90pmgusGeFbY8kvOcFVK+9UVOL9lnqshC4Clg2ZR/7RNvcT/6fSzMzMzPLyBDgTFQeb5+c2wIaVNwCXE16Sc6/oE7pc5SvoNFq/dCA6VE0M5MWp/oxYCZweJPbsjEwA71PX6qw7XhUNjU5KNg9gzYcRRhg/Cq6fRTwVeCHaMZlVuKY1xMWgouNQbNJWbXJzMzMzHqQwXk3IGEA6WE5A4EnUIf0KvLLmSmnVAjbEOB/qO2bNfH4Y9GMQQG4iNLhTbGTo22fBqZH17MYIP0h2tfbaJCTZkPCAKOAwu+KXRk99tuUx8zMzMzMmmoKmkEooNWK28nnULtfJZtY2FJ+Gx3nBSqvKj2FEDZ2FMrPKACnNNiGwajcYgG4j/IDxXimpIByPop9J3rsMRz7a2ZmZpa5RisQjQfWBSahTuBr6Azzo6jjnmZNdHb+XXQWPKkTWBudRX+KUFN/OWBrlOfwHHAD6QuPrQ1sgjrczwD/jY5TygjUKe6Iti/e52qEznul8rtjUDjX6tHtO9EMRGwFlLcxLeU4Q1AexEdoxmVedP/GqJzgYOAhFDYUWzVq2yzCLA0orGgX4ITo9utRmxZGt2ejhdAmRPc9TlgptpRJ0etbCDyC8mGIjnNIdP1ENNgp55soWfwF4EJg1+j+SgOXSsYCq0TX70XrPJTycOJ62ixcvBjV8ug9er/BtpmZmZlZBgahilEv0T3JdxEaPPyS7meQl0CDlI+As1L2uxIadMxEHez+KH4/PmseXx5Cg4PY8sDFqOOe3O5h1Ikv5XOoMz2/xHbfj/bzIRpApBmA8h6eKTr2R8C5aEAwGJ2ZnwtsmbKPHaM2PIUGFcsCfyVU3yqgDntsKDpD/xEqERw7Irq/XBL2NcCXo+fOBrYo8bpiS6NB3wIUhhaXqR2BOvsFNNCrFFK3MXofk9XGLopu30hjg+F4RewC8IUK2x6U2PaQlMc3Re9NgTBAMjMzM7OM1NPp60Rx/EdHt98FnkRn0cejqkuT0UDkuKLnro5mATrpeiY6tgEwHCU0z0IJ4J9Eg5br0Nnz9VCN75+jDuK6qBM+CQ0CnkHrjKyGZlt+BexA+pnsTdAA4jWUGF0sXl/jGeCNlMeHAL+P2kj0HjyBFkBaG3WGZwL/idr9Jt1nfUCd8wHR88YAV0TPfx8NvobSdfZj5eg19kczEqCBwbZoAPcUmtkhas/baJanHxqAPB5d7096NaikI9Dgax56z+PZj32A9VFH/VQ0uCqlAzg2eh3PAedF98+Ifo5HVafqnW3YKPo5H722UjqBj0fXZ5I+qzULvZbh6LNcrUHo/RlVw3NiP0eDajOrz57AHnU872VUzGNBts0xM7OsbUY4Q/xv1BnuhzqZA1AozNHAp1OeG5dfnY86r8VOIaxr8Qc0iDkGdco7UCf7zGibGWiNjidRB/tQQunUxdAMQjwjsxHd9SOcwb+B7snTixGqNV2Q8vz+wPmEs+k3okFG/6ity6PO/oeEEKnbU/YDGnAUUNjWf9CX4YloUDUQzSQNSmy/X+K4cSJ1PMDoBL5FeJ/Xi+7rTLzG5QkVob5dok2gGam4ulXyPRhGeO/upPLsxy5RW+Lcj1hcAvkd0iuQVevSaD8vUzrfZQgKS4vft5NLbJfMU/lGDW0YTvcZuGove9VwHDPr7ufU97f3El581Mys5eqZAZkaPW8O6rwmz+h/hAYET5Z47nrRzzfQrEJSJ2E9iIloAHMgXUOP5qOO8OGoU34B6lTvQdfO/QfAn1BHvYP0zu2y0XFAswgLix6fgkLGAB5Mef7HCSuj3wDsTde8lxeidt5DyE9I5oTERqJBHGgmZA5aCO9viW3mFz0nHry9h2Y7IJSgTT7+Cnqfi3MiZqC1Q4ahwUgpX0eDv5nATxP3b0r4Xf6B8rMfg1Gy9wAUHvbHxGNxzshIlMfxWpn9lDKMEI43na6hcv3R734KsD/hfTmd0gOQBYT3sZZFMuehv4d6Ev4freM5aX6GXmuh0oZmPUgHyr36ZgP7uIpQMKQWb9L9f38tJhNOnJmZWRNPqv4C/bN9l/Kd12IDUEe/gNbcKK5UNAKdwY7PTP2UdBvR9QzWoSW22zOxTVos/46EHIu02ZpDCDMoWxc9NpxQevZ1NFORph9ahTtux4Ep26yOBh3xNl8vsa+km6Jt76b77MNg9GVeAP5JekWo/ol2/Yf0NUTWIcySnF70WFz5ajqVPwMHo/cw7Xe1K+F11xM+AZqlSb5/pS7vAr9G+SLlrBZtW+sMSE/wKPWdBfbFl7wvj9GeNiX/984XX3zxpSddqlLPDEgcYz8KLYBXnOdRykS6zjgUn5WfjPJDQHkCpQYgyc7+jcCfS2wX50DMJz1/Y23UOZ9Pevz9utHPd1AIVdLHEo+fCzxbog0LUSce1ElOmxlagzCIuB11kssZR3gPnqD77MMkwjoYD5NeEWoBIedlBRSCMK9om2+j2YXpqKBAbDQhkf5ONNNTymgUDtYB3IWSzpPeRO/LEFTprB7rEd6/WWgWLjaYMIsxHQ0ar6mwv0GEcLcP62xTXm5GM1vlqoCZ9TSdlM/d6sneRX93/pszM6tBPQOQK1HHd1WUWLwE8AMql2BdnRCecl/K4xuiWRJQYndamV3QmXnQP/yzKT19Hm/3OumhPXHVq+fo3vYOQt7IEylt2Tn6OZOuIUXFBqHEeVAHeFrKNnE7FqH8lnLhTKBwrXiglhbStSqaoYHypYPjgcM4NFBIDtI2RyFlRG1KDjJWjC6g0LNyPksoAXwGGhknZ2w+QJ38RgYgcVjVh8AnUMhZPKMzAlXx2h+FtZ2HZl0+S+mE98UTbUwbuPZkR+TdALM+5glgm7wbYWbWbuoZgLyFwmouQLMWX0DJ4D9CsxEflXjeWqhjOAediS4WDxjmAJeX2EdntB9QfsONJbYbgjrioIT26UWPDyXkDUxDuRRJSxFmGR6l62saRfjCuY/yMwDDCGtcPEb3tVGSr+cF4Noy+4qtjmYsCqQPMNaOfs4GHiiznzgHZyjKh4k72/3QYnwD0eDs7KLnbYg+N/NLHD82AfhKdH0RCi07ijA4KKAB54jodj1rgXSiSmeggeYNdP/83YcGzY+hks57o5mhH5TY54pRGxeRXhmtlH7A9mjwUvUUZORuNBtkZvWZgv7n1zIT0YFORNxS4/PMzCxHy6EBR3Ktir+hM+pp/hFt8yjq9Cb1B+6IHr+PMBNSbAzqqBfouv5FscmEOP5fpDy+BiFh8fspj29DqPRVvK7ERoSKTmnPLd5PnP9wQsrjSxIqbV2Y8niaOP/iZTRQKvaf6PGH6P4+J00lvMY9E/fvikK0Cmh9k2KnR4+9SvkSvj+ltpjBm6h9QDyK6j4PoET3p6JtnyTMEhWLq6y9Tm1leIfRfb2aai+713AcM+vuZOr723sCV8EyM2u5RhZ/exEt6vYPNPsxGa0NAXAAXXMKhhPOzD+Kzs4njSHkbNxM6VmUiYRO4X/LtG0yYT2Ge1Ien0IIB7s75fE10HuzkO5n+ccRBkilcj9iHyOc8U/LM1me8HpuqrAv0Fn2OPdkGpqNShpJmNl5jO7vc9LzKGxpJCGkaxCa/eiHZk/+VKLNoM52qbP2qxAGbvehM4zFZY5BHYCd0e+jnrVAViDMnKSFoyW9j2Z0JqPP23i6r8kykBAS9xS1hWAtQp2ZJSptmOKDOp5jZsHL6LullvU8Ogkl0s3MrIUaGYDE/oZmL/6CzvjvgzquVya2WZnQMUvriK9NGDCUCxvaAHVkF1C+dGmcvzGb7gnkEPIG3ieUsS0+DijM6/mixxZPXH+3TBvGo5yE+DhpCejxGh0fUV0p1uJE/uL8l1UIM1BppYOT3ke5MSNRhxx0Jn6z6PqP6Z6E3Un4Pc2ge3ng2LdQXslsNItSbnDwczQAWYraByAboM/wIsKCjKUMIAw6F5GeOzQJVdUCJc3X0pmZg0Kw0iqKVVLqfTSz6pxN93BRMzProdJKtNbjNbTWw5zo9qZFj6+O8jJK5S2sH7VlHuU74vHAYAbpA4fk/kCLTKXlaMQDlKfpfpZ7AGGNi8fpnrcRV1VaRHi9aY4kzG68hs6+F4tXWn+dyrMpoIFcPFhIm9lZnpCDkJZnkzSXkOOwOOo4HxH9vBEtjlhsICFBu9RZ+6ko6RsUFlUuTwR05hI0OKh19iD+Pb1P5So6ybyet0ifvdkRDbAWAv+qsS2g93ROHZdG1iEwMzMzaytZDUBAHfU4ka84vj4OG3qP9AFGHJ6VtkBhbCAayIA666+X2G4M4Sz2NLoPIMYSOqJP0j1MKRkWlVYuOO64dkb7SrMT8LXE7QfofpZ7MCFc6jm6J8qniUsHzyN9Jilu9zy6hxcVKxAGIINRad0t0Fn/k0kPg+tPCD9LC+/qhyqjDUaDgnh14nLiCmSddF1TpD8aGC1Oer7GAMLn4UU0W1XOtwk5M/EK9Un90cKVoPc2rVKbmZmZmTWolgHIdpQ/Q70/CqGBrmFUHYQz/U+g3IGkQYRKRg9Qeu2FsZRfUTy2LKGka1p+R3KdjFJlbEeWefwFwmAiLXl4K7Q6+PuE8r1p+1mSsAJ6pVmCWJyf8DzpZY9HJa5XU9UlnpUZhUKl+gF/p3R1sY8Ir714AUSAXQgliv9MdWFlbxJCnZKleA9D66LcCXw15XmjCJXO7qD0LMIkVAL4sOj2SyjRvNiWhBm2CyifP2NmZmZmdaolB+RMNAtxGeoYvoQ6fUuipPN4NfFpwFWJ540jJJg/RveZgAmEjud9lD5jPoUQflTu7PQahIXk0rZbPXq8XBnbuFxwWh7FY8D1qFrUJ1F41V/Re7MbWj37HZSE/Xs0EEjriK9MyCepZgAyjDBj8hTdSwdDCDcbjM74n4V+x8uiErXFa4zEs00bomTuD4GfUPp3MJ/QMR9W9NgQNPvRH4U4nVb21QRvonCu0YTPwRA0YFglOmZaeeLVCO/fioTk+ULUhqVRvsy6hIHzK2g19uK8njj8bCB6D/9SZdvNzMzMrIlup3sJwwVFtx8hJDHHtks8nlbWdZ/E43umPB77XuKY65fZ7txou/fpump67PfR49MJMyFJ1xLKMxZ3smOboHCxtLKOD6BO75REO9LWuPh+9Ph8QghaOesQyv+WWsNiGRSeFrdlNhoAvY86+MXWROFa8fZnVdGOiwmDt+QM2mGJ/ZxcxX5iI9AgpIBmX0C5GHF55/NKPO87pL//aZf30KBiSuqeYGs0OCug9UrMzMzMrElqmQE5FA0mPo461KNRB/RtlBR+KXAR3VcNH0JY6OnWlP0OjB6fS/kKWAuj7aZTPgH9w2i7ZwgJzkmzo8cfoXvexUD0Wm6JLqXCwe5C4UY/QGFAw9CA5BLUYZ6BEt1vQQOCtJXYC9Hjr5KeoF5sKApHAriuxDavoIX2jkMDlpHoPbiV9IT5l9HgZFzU5rQ1U4o9Fv2M8zNmoBmXddHreZ/qBjKxD4Cr0SxGPIOzP4DWDbIAAB/hSURBVPpsxXkkaRZFxyv12EyUJ3QfGjyXSlIfhBYoHIQS+8+poe1mZmZmVqN6SoaCKhaNQp3Ed+jb6xiMRYODN+m69knexqLf07ukh2uBKlZdj9p/IpplqmQXNGCYhWa7Hm64pV2tiGZXRqPFDI/JeP/FjgB+hQZou1B+fZm+aACwOV0H9INQpbunSB9cN9vSaD2X2wkhnRPRZ+c2aiuf3Eo9ud1LorDGuwlhlhPQrOEd9Kz/bVa/fsBn0BpKXv8kWx2oH3BG3g0xawf1rgPyAX170JE0I+8GlDCD8m3rBI5Hg4+XgF9Xud/7UEd0WZRPk/UA5FNo8DGN0rMfWVmHsJr9iXjwkWYUKkrwLeCU6L4lo/u+RD4zRnujL/mlCQOgg4CT0KxcufV58rQPcDo9s907oMIRqxBmmPdEs5kTSZ9NtvYzEfgl6ix/QLaVMPu6DlRZ0wOQ1hiLKmR6IJ29Beg7qqnvbRYLEVp7+iQqFwzqWJZa1bzYdLRq+8Eod+KiDNu0OPB/0fUTaO7gbgQadI1Bi2k2e7DTruJ/QAtS7str/ZL4uMl/jgsIeUM9VU9ud1rb0u6z9rYJChneC1VnrDcKwrrrIL18vWVvKOp7rIs/w1nrQCelN6TJn2cPQPqmlVCieCf6EvpDjc8/D525/RgK26p28FLJGmiAcw3Kp2mWYejM/aYoj+Qw/MVhZr3frujM5k04isHa10ooJ/lSVK3UM3nZ6UD5t9Us5dAQD0B6v3hBvxnog7UxKqm8PIr1Phrlc9TiDpQ3sQaa0s9qAHInWgyxuFxw1jZDixJehqpeFa9NY2bW24xAJ11ux4MPa2/bo5OGJ6CwN2tDHoD0fmNR1aw4nGIyqkw2Hy3wd1sd+1wIfCW6nuX050e0ZibiBtLXFjEz660mo4IHpcq4m7WDTjT78RyqMmptygOQvmE8YRFHUBnhnwJXZLDvdowPzyt3wcwsLzugan93590QswaMRblMf8Sh023NA5De7y007b48Stx6ES2y2OwwJzMz6xn6obCVaaiktlm7Wh+Fld+Yd0OsMR6A9H4L0ZfOtLwbYpaiP/AjFB4yB/gG+awt0o7GocVDh9F9JnIuOvnwOAqzfKK1TbMeZinUcTsbzwBbe9sJJUnfm3dDrDEegJhZnnZDa4zEzsADkGqthqrRVfIeqnT3PZx83FdtAIzEZ42tvQ0CtgLuAd7IuS3WIA9AzCwvQ4Fji+6biHKUrLINo58LgSsJ1egGoAUkJ6HFNkehghNDgS/jM+B90S5oRuyBvBti1oDlgLVQ9U5rcx6AmFlePg1shNZ+6YcKJSyfa4vay3rRz7fQAp5vFT0+nLCa+QjgEBSC82CrGmg9wlBU3vxumru4q1mzbYvCTW/PuyHWOC/eYmZ5WBz4ZnT9j4ROsQcg1RkGrBJdf5H0juUs4ALgN9HtQWgdIOtbVgRWBf6Vd0PMGrQ98DLwaN4NscZ5AGJmefg/lHg+EzgXeCe6f5kc2jIQDXwmohKPlQyNtl0exdXnYUlg5ej6vZQvh31H4vqoprXIeqrtULnSO/NuiFkDRqFFhK/FVTx7BQ9AzKzVlgOOjK7/FZUFfT+6vQQ6U99KA4Ez0SzMbcCUMtsOAv4M3I8W+Fy66a1LtxoKsQL4X4Vtk2sAPd+c5lgP1YHW/3iebCqhjUfhfKDP/hbo79ms2dZG1dyur+E5A4FlE7fXQmuIDMuwXVYnD0DMrNW+ijoy7wOnRffF+QvjCB2cVpkFnIRy4qYAp1J6EPQlYG/UqT8TlbnNw0bRz7lVtGHn6OeHwCNNa5H1RGNR2N21wPwG9zUE+CfKK/oaKhbxTzQA/nSD+zarZCf0P6yWhTS3R6GHGwB/R38HN6BBTB6z7ZbgAYiZtdKawGei638kdJ7jAcgS5BPWdBdwfHR9V1Qtqti6iW0uA37dgnal6UBnAwFeB54ss+1XgH2i6+dW2NZ6n7XRIKSWs8alrBRdvoxCYfZCi9y+DnwbDVDMmqE/sA2apX6phudtgk52nYZCVTdE4b8b40Fz7jwAMbNW+jYaYEwHTk/c/2r0czjV5WE0w1noLBlooLF+4rFhwC9R8vwLqAzkgpa2LhhJ1wT0wSgnZAlgAhoo7Q1chb54O4CLgBMpnytivc8uZLdo2xQ0OzkTrT9zH/AYcBP6u+2XwTHM0iyNqv5dXePz1kPfJ39CC96+jGbtXie//D2LuAyvmbXKlnQ9G/9c4rE3gUXopMjy5LMWyEcotGR9lGR+KloocRYacGyFwli+Rm1n4bI2AVghuj4VzWp0oMFFJwofG4LCs/4FXAGcjwcffc1A9Jm9n2wW99wAff6/A8xJ3L8K6tjNzuAYZmm2ROsb3VrDc0YBq0fPOT9x/wRgNPB0Zq2zungGxMxaYQDquAxGZ+3PKnp8BuroQ76leF9EA4yP0JfekWgaPy4ZfBbq0OdpXfR+gjqZo9GXbfwzDoW5Hw2izsODj75oIkq6zar87hZoBeqHEvcNQ4tdPoJOIJg1ww7oJFUtC2lORAnof6Tr4qtT0P/IhzNrndXFAxAza4XdUBJhATgDTYEnzQDei67nXVXncrRgHyhk7K/AYqjz9YO8GpUQr4A+EzgQxUZvG10+ARyDwmM2Ba4hJNhb37IV+o6/LYN9jUH5H7fQtTM3GQ16K1ViM6vXcDT4vZFwkqoaa6LPanHS+sbo+yfPWWzDX0pm1nzD0OxHB8qb2A6Fc8QnQArof9Ho6HZepW2TTkAd/akoVvgt4AjCICkv/VBYASjs5WLSzzz/Cg2iDga+C0xDcdDWd+yIcquyONM7GeU/Fa8lshoK+fMAxJplVTQr/v0an7cp8ArK2Uuaiv4fvt1406wRHoCYWbMdTCgb2x9VmSpnSTRFPqfCds30HprunxrdfoX8Su4mjUFfyKBQmFJhL7NRIv2OqHb+YWiw0mgpVmsPo4HNgX+Tzd9RfDa5eAXqjdGZ5FcyOIZZmp2BecDtNTynHzrJ9QRdZ03GogVcL8BhqbnzAMTMmmks8PXo+stoOjwt9HMRqliyIqrmtBj5DkB2BQ5N3F4XzSQcm09z/r8VUBIlKCSsnFfQAnRLoVmlsWSTjGw93+roc3JtRvvbHv39Tk/c14kGuE8CH2R0HLOkfii09DG6Fi2pZAIqQf2jovtXQWV5a1lLxJrEAxAza6YvA5PQ2aajgb+V2faH6Kz9kqjc5/Qy2zbTBFQieChwM0rmPholp99G7aUgs7QBIZSt+Gx0sf4oSZ3oOR1NbJf1LDujM7+VBqnVugLNoCUrXfVDoX5ZrLBulmYJNHt+KrUVOZiLThhdWXT/m8A3gP9m0jpriAcgZtYsKwCHR9dvpvuXQbEXo59D0CDkmSa1q5x+wC9Qwu176MvqUfQluDlaV+NB8ptJiNcmeRt4qsK2E1AlGFAOi2Oe+4Z40bZH6R7/Xq8LU+77iPwW42yGkeh/z0LgXfJb58eCzdCJoFoHDG+h/+PFni5xfzvrjz67A1HUQN55ilVzFSwza5aj0RmsBcBPqZx/8Griel6VsD4PfCq6fiKqJjUPzX68i+KHf04+/zsHEfI/XqTr+5XmKGBcdP0mdFbQer8JKJwxq/K7vd0WKCfgQXTSYxpwHZpFsnztALxDNgtp9jaDUYTB9SgM8lmUF3gOPaOQi5lZQ8ai8KmvJe5bNrrvC2Wetw4qE1tAK3JXs0ryBijEo0D5XIsvR9uMT9z3bTTQGVXFcUpZB80SFNBquYOKHj86eqwAfLGO/R9OY+1eGn0ZF9Cq7KWMRRVj5kfbvobC4MrZP9p2cuK+L0b3LVNF26znOACFq2yVd0PawGfQWeNCymUWyj+wfAxGs7yX5d2QHmg4+l5N+9wWULnsxXJrXZUcgmVmzfAd9A9wLpr9WFh+c0DT5u+jMIhWL0a4GIpnXxzViP8amvlIOguVEN4V+DFKZHyI1lmFUKp4NOpoxjMxA9BAYVnU8Vw5uv8dNJB4tnXNtJztgPKnalm0ra96DCXQv4LWJ3oSlW89FpUP/yKaPXTFpNabHF1OzbshPdBsVF57Z+DvwCXou/Yo9Pe/BQrDrBT2nCsPQMwsazsA+0bXr6D6hdDeAj6Mri+bdaPK6EDrfmwe3f42ihUuNhfNgqyHKkudjRZYfLcFbYRQEhjgkOhSygLUcfouXqOhL4kXbbsJzUBaefegTtwMwsJ016MwzFVQCGMn1Z1AsWztgN73Wsrv9hWLUNGWa4FbCQn6BfS+gb6jejQPQMwsS/3Rl/dL6CzNKTU8dzaKw+5EYRGD6D4L0QwboYHE88B/UDx4KU+hAcr3UUjUp2ldIu441MY0i1CH8zWUt3IjGvi549S3TEGlrE9sYB9T0SxaPZ+dDtQJuoL0QXxPdH/R7SVRGCNoRsR/Q63Xgc7gP03lYhsD0P/hpaitUlasE80YXkhrvm+yMo/uyfkrJq73hHWryvIAxMyytBD4EvoiKFD7l/d+hLCiVlWhuR9YC7W3mmP+iVAVqJXJ6F8nrKmSZhH1fQFb77ET6pjc1cA+dga+12A7nqd9BiDFvooGIPOBv+bclr5qcTQjfT6qtlbOQOAYNGNVr+dQKFM7DUCKjQeOiK7fgU5E9WgegJhZlgo0ttp2Hp3oSl9wafIo0emyoFZOJzpr/BSq5FSvu9DfxIDo9psoIbuWwXYeCxOuiIopdKKqSf+uYx+fRWGWAGeiZF5rvU1Qadmbq9h2LupwxwOQBWjRzFo8Q2tmurYCtiw6Vryu0yxUNvtRQkn6ai0GnIdyZmahWfo8F/I1M2tYvVWwmqlZVbCardEqWM3kKljtbynU8f9xBvs6mVBR5wq0FkMtl2qq3mWpA4VOJttcq/0JVfguQa/D8nEa+iwvWeX2S6Ck7AIakByKBtDVfl4HZ9j2ci6hdOWq+PI2mmWvVLkwNjSx39koHM3MrO15AJIdD0CsmfZCv6+dMtjXUJTgGneKvlZ+89xthTqecXtvo7YIj/1QAYwC8BdUAcvyMQBVF6x1BmtTVEWxgKqaTS6/ecsNQzmOBbRY4D2JSzzrkRyIPE7lapCDUThwAQ3Y9mtGw5vFCxGamZm1v51QRbYsFm2bjQbMcSjLD1HoSE/UH5XNHYTOHoMKNoys8vmfQLkGg4DTgQMJ1fh6omXQYPNjwGpVbL9ptO1utMfAagVgDeCaGp93B6r6ByoQ8ht61utdilAe/S+o+El8WQtVV9yNUD57Vcrn/A1GYVf7o0Vp90YzIW3DOSBmZmbtbTAaINxG6IQ36mm0rsAlqLzv2cD2aJ2cnmQPtD7PTLRWz/EoJGckld+LPYDfodf3KqqG9A3CydmF6AxzT3vNP0Od2WfR7/21EtttDfyLEKZzfUta15jt0Ptfbfn2pHNQh/4g9NpPAL6VXdMasgYhrO+eoscWoc/q1cAbwHUoEX8b9NmcVbT9YPRaD4huPwysDqwb3e5E+SSX4MIkZtamHIKVHYdgWbOsgToaX27CvpP5IBfRsyInhqF1buK2bYoGDYuA9at4/r+oHJO/aeatbtx2hHyVC1AOTLHRhJCfp4EJLWtdYy5FVdTqzctI5oPMI6xJlbcfoTbNATYss10nKgRRQOXsl07ZZi30vVHuc3sXrc/FqolnQMysnPiLbUDKfXn9/4iPm/zSHYD+2aZ9EfcUPbndcds6U+7Lu21W2Xao092MRdtOBDZAC5x9CrgbJQn3BAeiti1AVaveQR28YcBEKpcifQx1WEv5iJ65oOMNaI2l76GTB9cCfyza5gfA2qgTfiSlZ0l6khFoRudylNNTj+nAYSiHZAT6rD5C5fVEmqkDDRpAMxzlqtQlvw9moryWYrPRDFG5ELMH0EDEzKwtDQR2p+sCR0Oi+ybm0iIl5u2OYrZjk1D87IDUZ/QMPbndE1Dbkl9oE6P7WlUhxurTAfwDdWoGNukYK6OzsXGy6+ZNOk4txqEz+3HVq070f+pN2iNxvlFD0UCkgAYXyapJu6Ny6AU0g9UutkVtziKZ+gjCelQ3kG9Vs1GEz2ql5PrJwAzqr+ZmZmZm1nRjUPz46U0+zl5oRqCAqvZUWyK1WY4nhLTEYVLj0KJyBZr/fvQEq6Ez/gXgKjQYXQINRgtoHZOelIhdyclo5mPZDPbVH5WzjUOSfpLBPuu1JuFv54Qy2w1CIWiFaPttm980MzMzs9rtiDose7bgWMl8kAvJL8Z8BZQYHpfNTYaKxvH/l+fTtJb7DOF3chRwbnR9BiHspx30Q3kL/yW7PKPifJC9M9pvrQ6J2rAIFT5IGoLyPHYDbiK09bhWNtDMzMysFr9AYVFLteBYg+m6PshRLThmml8RwsHWKXrsuuix28k/tLEVOlH+R7wI38Lo+hfzbFQdlkNhY9/JeL9TCeuDvEw+64OcQRiAPATcij6ftwH3E8IbZ0f375NDG83MzMyqMhAlWt/QwmOuRFg0bSawWQuPDRpwzIyOf3bK4+dHj01D4Wl9wTjgCcLA8C/0rGpl1TgUtb0Zn6cjCAOz62htPkh/Qq5OuctsNPhyzp2ZmZn1aJNQBahyC5Y1w950zQdpVRnpTuBiQuJ1Wq7AsdHj79O1eEZvNh5VeYo7s3+lh5dgTfFnFFY3vAn7Tn5uCqhCWKssgT6rBTTjcQSqSnYk8E00O3IHIfTqcrqWau+1XIbXzMysPW2H8h9ubfFxk+FeL1F/ydRabUWI438blQVO9mMWoYXoQCVYF0dJ6dUYghLa200/4FQUWjQXzYrth0J5zsixXbUYihYOvJbui+5lYSBa0wr0GXmxCccoZUXC38vFqFx0sUEoT+QM4OPR7b3RgKSSjmj7Vv0NmpmZWR/Wgc50v4Q6z62yFqFM6OsoJKsVBqCVvCuFsiQv1cbSbwU8Thi8tJMvEV7v4SgsrQC8h9ZIaQcboDYf3KT9xxXTCmimpZXhaUdGx11A5apW5xByRXaqcv9noVkTTyiYmZlZ041AA4DftvCYgwnx7ItQBaZW+QQhjv8l4EkUdpS8PAm8kNiu2tC0XdCMwfLZNrnp1kWLLxaAy6L7xhLyQe4GRubTtJocjTrokyptWIepqFhBAXiGbEr81uL30bHfpPJq9HsTBkrHVrn/36FCFO2W82NmZmZtaAvUUflUC4/5HbrmGbSq0zMcVQsqoEHGSii8akzRZXHUKY/XxvhVi9qXh8XQoKmAQoqWSzy2EwrfKdBzVq0vpQP4D/A/sj+LvxhwD3of5tP66lKD0SCwgEoMd5TfnN0If18/bm7TzMzMzGp3Eor7Xq7ShhnZiFDO9EVgYouOCwotijtmh1XYdighIfvvVey7Pwpj2rqRBubgFMKCdZ+o8PjHW9iuWi0JfAic2IR9/4TwufkNlQcAWVsGhcJVOxg+hq7hdJWsjGb5Fq+3gWZmZmbV6ocq6txBa2YhhhEq9SygtbMuSwLPRsd+EJ3VruTOaPs7UAJyOZNQOFmrK4k1Ynd0Rr+A8gbSjCCc/X+Rnhtetgdq43YZ73dbNEAvoPyeVqyTU2wnwoDi0ArbjiTM8s0F1q9i/8ejwgl9omqWmZmZ5WsZWrta8kmEjtTvW3TM2A8IOScHVvmcv0bPeZpQ/aiUPVDOSLskoE8G3iCUQC631slUVFWqgCpMVTN4a7VTgXeB0RnucwxhBfS5wK4Z7rsWxxHW+Fi3zHbj0dot8d/YJVRXRvlqdCKi3Uoum5mZWRs6EHVUtmzBsbYidGKn0dozyZMI+Rx3Uv0ibT8jLJRYaS2Q75F9B7iZDkADrAuBzavY/vPRthdR3Vn1VhqIEuavyni/8crjBeCXGe+7FpdEbZiO/o7WSVw2Q0nnJwDPE9r7ELBCFfsehoox/DrzVpuZmZml+D2qqtPsM9qjgAcISbx7NPl4xeKSsguAvWp4XjJnpNLMxr+Bm3EVoTysiWa2js5wn7sRFsl8gPIzRM00HHgsasdCNBj+IHGJ2xhfFqFyutUMPkDlsOdQ/aygmZmZWd2GoDOmF7TgWKcSOkitPtO6Hkp6XwBcQ20Vkj4WPW8BsG+Z7YahgVxPrxTVWx2GPltrZrS/pQgFCD4Etslov/VYGc0cLiCUhU5e5qKZkf8B5wHbU1so1SfRoGX17JpsZmZmlm5D1IFp9hocOxOSeB+hci5F1kahTtyk6HothkTPm0T5dTDWRa/xgHoaaA27HJVVHpTBvjpQRz7u4J+cwT4bMQSVi55U4rI8WhdkaJ37PxUVF6j1b8PMzMysZseis6qTm3iMcahyUAGFeezQxGPl6SB0FnlK3g3pg0aj3JtSVbxqtS9hpuEuVAWsN7sTJaGbmZmZVbQP9ZdE7QCuQ+Vos160LekcQlz6SU08Tt5OR2eRh+XdkD5oB/QZKxciV62JhETut1H4Xm82DniL5qyd0jLN/AdmZmZmwUHA+cA3UKWeWo1DpVXPQLMgzbA38Lno+jyUxHsytS3i1oEqAN2fbdMy1YmqQv0P5QtYbYajGYc5dT5/q+i5tzbYjoFo1fB4UP8WWngxbXHGUjqAd1CeUzt8FiahEK878m6ImZmZ9WyHoEFDAbie+k4A7hM9f6cM21XseronzNZz+XwT25iFDrT+gmPoazcahf/sU+fz+6PB6Q00Xn1sCtl8XmcASzTYllYZAixNm08itHXjzczM2sRIlHT7PPAVlKD6ZI372A5Vhro326Z18TBab6PQ4H5eyaAtzVQAXs+7EW1oSeB3wC5o1uCyOvaxAqp89QMU5teIuaiMciP92Q7gVTTj1w7moPaamZmZVdQJrIbW1DimxufGi7b9ndrCoWrVPzrWgAYvXlejdzoRdfofBF5Ds0i1OgQNADfOoD0dNP5ZHYBPyJuZmVkv1oEq2NyDOj7VWgWdLf5yMxplVqWJwLYoh6MAfLqOffwFeIH6S9CamZmZWY2ORIOJtWt4zhei56zVlBaZ1WYY8AxwZY3PGw68Afwx8xaZmZmZWUmTURz3D2t4zsVolecsFm0rZy/geBSGVasxwH7UX2bY2sspKCdpYg3P2QLNnBycURuGAt9HOSn12ADYg/o+72ZmZmZt5Tq0wvjgKrYdhRJ+T21qi+QqFB5WTbuSNkSvp4BXFu8rNkGleL9Yw3O+i5K9l82oDSugwfxRdTz3aGA2KgwxJqP2mJmZmfVYn0Wd9U2q2Hb7aNs9mtoiGYvWG6nWAFRy923gH+iMuAcgfcMg4FFUurmaogMdaO2K24B+GbZjOWqbwRgPXICqoP0LD0By4SoVZmZmrXc9MIvqFkzbEp3lvbupLVJ8/nLorHC1xqIzyT9CZ6ELNLdKl/Uc84BLgc2AFavYfiKwLiqbuzCjNqyA8lHm1/CcnVD+1U7Af6itGIRlxGXHzMzMWu8l4CY0q/E9Sq/A3A/Ft9+NVnlupt3RGg/rAdNRBy1tMNEJvIkWknsd2DrafiXcr+hrrgSOQ5+d0ypsuwkK7bs2o2N3AGeh2Y/tUD5HXC2uWCcKLZwG/BW4AniP1swqWgr/ozAzM8vHxSgUZCM0GEmzPLAOWn+h0UXbKtkcDSxeRCtM/5D0UJl+aEB0c9Sm6dH9jqroex5Bi1fuC/wa+KjMttuhClgPZnTs0Wgm40/R7d1RaOOClG37oYH+NDSbOCejNpiZmZm1laXQWdizy2xzEAprmtrktnSgQcXV0e1OFONf6pIWtjIZhZUd2OS2Ws/yTRQCtVqZbQajge0lGR53HfS38fHodn/Kf2bTBtPHAa/gHJCW89kKMzOzfLwB/BvYDRhZYpvtUAfpoSa3ZSk02xLnmSxCMf6lLuXOdFvfcjUaCOxVZpu1gGVQ2F5W1kf5Sk9FtxdQ/jObVd6JZcAhWGZmZvm5FPgUSuS9uuix4cCOqNNWS2J4PVYAlgDuim6vCZxO6WpFD6Pkcw9E7AngXmBv4Beos19s8+hnlgOQTVD437PR7a8SZkPSnA5cnuHxrQEegJiZmeXnZmAGWsCveACyNioZemML2rEuSoR/Orr9PnArpQcgL9L8nBRrD4uAC4EzUBjWAynb7IJm8V7K6JgD0KzKg4QBz7PoM1vKaxkd28zMzKztnY/CsRYvuv8YNMOwXAvacCFKKG5kpXXngPRdK6FZupNSHlsKmEm2C2mOR4PkbzS4H+eA5MQ5IGZmZvm6DFgS2CZxXwc6a3wf6iA100B0NvkR0sNnzCp5Brgd2BMYUvTYxsBiwDUZHm9lYATNz42yJvEAxMzMLF+3ovCQ/RL3LU0oz9vs5NnlUejMXZU2rKATLQrn8O6+6SJgDRQ6mLQN8A4aTGdla1R566lKG1YwEH1mvXimmZmZ9TlnoJK8S0S390WVhbZtwbHHAp9GYS2NWAyt7L58wy2ydjQR+ICuoVYDgCeBq8i2k78Rmm1p9ET66qh6VyOhh2ZmZmZtaVs04Dgoun0WWvm8VHles57oH6iQwbDo9lpopuKrubXIzMzMzFINAZ4DrkBnY59FuSEODbF2sj8aSMf5TIehKllr5NYiMzMzMyvpJ6iyz17orPGX822OWc2WQvkeZ0e3rwAep3tiupmZmZn1AFNRKdOHo59T8m2OWV0uAl5Ai1tOB87JtzlmZmZmVspAVCmoANwT3TZrNx9HldvOROvYlFud3MzMzMxydhwagGS5aJtZKy0OPI/CCN+i8epqZmZmZtZE6wFzgN3zbohZA85BA+mr8ZpzZmZmZj3aQOASYELeDTFrwM4oDOuYvBtiZmZmZpWtQ1hHwawdjQJeBLbIuyFmZmZmZmZmZmZmZmZmZmZmZmZmZmZmZmZmZmZmZmZmZmZmZmZmZmZmZmZmZmZmZmZmZmZmZmZmZmZmZmZmZmZmZmZmZmZmZmZmZmZmZmZmZmZmZmZmZmZmZmZmZmZmZmZmZmZmZmZmZmZmZmZmZmZmZmZmZmZmZmZmZmZm1r7+H4NiAEtnht1vAAAAAElFTkSuQmCC)"
   ]
  },
  {
   "cell_type": "code",
   "execution_count": 10,
   "metadata": {
    "colab": {
     "base_uri": "https://localhost:8080/"
    },
    "id": "BCJTrUHlg9Su",
    "outputId": "bf055244-3cb1-4f75-baa0-75c92164d5db"
   },
   "outputs": [
    {
     "name": "stdout",
     "output_type": "stream",
     "text": [
      "[[0.14598637 0.18248297]\n",
      " [0.32846934 0.40146253]\n",
      " [0.51095231 0.62044209]]\n"
     ]
    }
   ],
   "source": [
    "from numpy import dot\n",
    "from numpy.linalg import norm\n",
    "X = [(1,2),(3,4),(5,6)]\n",
    "Y = [(2,2),(3,4)]\n",
    "cos_sim = dot(X,Y) / (norm(X)*norm(Y))\n",
    "print(cos_sim)"
   ]
  },
  {
   "cell_type": "markdown",
   "metadata": {
    "id": "agQDiSIRhFHw"
   },
   "source": []
  },
  {
   "cell_type": "code",
   "execution_count": 11,
   "metadata": {
    "id": "Z0Co_spi-KMS"
   },
   "outputs": [],
   "source": [
    "tf = TfidfVectorizer(analyzer='word', stop_words=stop_words)"
   ]
  },
  {
   "cell_type": "code",
   "execution_count": 12,
   "metadata": {
    "id": "Q4hifg_YLD5S"
   },
   "outputs": [],
   "source": [
    "tfidf_matrix = tf.fit_transform(df.description_wt)"
   ]
  },
  {
   "cell_type": "code",
   "execution_count": 13,
   "metadata": {
    "id": "y8mOycJtLUW-"
   },
   "outputs": [],
   "source": [
    "cosine_similarities = cosine_similarity(tfidf_matrix, tfidf_matrix)"
   ]
  },
  {
   "cell_type": "code",
   "execution_count": 14,
   "metadata": {
    "colab": {
     "base_uri": "https://localhost:8080/"
    },
    "id": "NqfY7tHlLYon",
    "outputId": "cf5f52a2-d39f-48dc-befb-f138a4986541"
   },
   "outputs": [
    {
     "data": {
      "text/plain": [
       "array([[1.        , 0.23715234, 0.1154894 , ..., 0.04813754, 0.22375082,\n",
       "        0.06417766],\n",
       "       [0.23715234, 1.        , 0.09751128, ..., 0.063971  , 0.0943373 ,\n",
       "        0.11413842],\n",
       "       [0.1154894 , 0.09751128, 1.        , ..., 0.06512763, 0.05574878,\n",
       "        0.06238258],\n",
       "       ...,\n",
       "       [0.04813754, 0.063971  , 0.06512763, ..., 1.        , 0.11351674,\n",
       "        0.08980857],\n",
       "       [0.22375082, 0.0943373 , 0.05574878, ..., 0.11351674, 1.        ,\n",
       "        0.08834885],\n",
       "       [0.06417766, 0.11413842, 0.06238258, ..., 0.08980857, 0.08834885,\n",
       "        1.        ]])"
      ]
     },
     "execution_count": 14,
     "metadata": {},
     "output_type": "execute_result"
    }
   ],
   "source": [
    "cosine_similarities"
   ]
  },
  {
   "cell_type": "code",
   "execution_count": 15,
   "metadata": {
    "colab": {
     "base_uri": "https://localhost:8080/"
    },
    "id": "JmR09B0hLdXG",
    "outputId": "39e03114-e971-43cf-ce28-27076d69471a"
   },
   "outputs": [
    {
     "data": {
      "text/plain": [
       "(17771, 17771)"
      ]
     },
     "execution_count": 15,
     "metadata": {},
     "output_type": "execute_result"
    }
   ],
   "source": [
    "cosine_similarities.shape"
   ]
  },
  {
   "cell_type": "markdown",
   "metadata": {},
   "source": [
    "### Buil Recommdation - product based"
   ]
  },
  {
   "cell_type": "code",
   "execution_count": 16,
   "metadata": {},
   "outputs": [
    {
     "data": {
      "text/html": [
       "<div>\n",
       "<style scoped>\n",
       "    .dataframe tbody tr th:only-of-type {\n",
       "        vertical-align: middle;\n",
       "    }\n",
       "\n",
       "    .dataframe tbody tr th {\n",
       "        vertical-align: top;\n",
       "    }\n",
       "\n",
       "    .dataframe thead th {\n",
       "        text-align: right;\n",
       "    }\n",
       "</style>\n",
       "<table border=\"1\" class=\"dataframe\">\n",
       "  <thead>\n",
       "    <tr style=\"text-align: right;\">\n",
       "      <th></th>\n",
       "      <th>product_id</th>\n",
       "      <th>product_name</th>\n",
       "      <th>category</th>\n",
       "      <th>sub_category</th>\n",
       "      <th>link</th>\n",
       "      <th>image</th>\n",
       "      <th>price</th>\n",
       "      <th>rating</th>\n",
       "      <th>description</th>\n",
       "      <th>sub_category_id</th>\n",
       "      <th>item_id</th>\n",
       "    </tr>\n",
       "  </thead>\n",
       "  <tbody>\n",
       "    <tr>\n",
       "      <th>0</th>\n",
       "      <td>231475</td>\n",
       "      <td>Bộ Quần Áo Thể Thao Thời Trang Nam Q5SHOP Form...</td>\n",
       "      <td>Thời Trang Nam</td>\n",
       "      <td>Đồ Bộ</td>\n",
       "      <td>https://shopee.vn/B%E1%BB%99-Qu%E1%BA%A7n-%C3%...</td>\n",
       "      <td>https://cf.shopee.vn/file/e96fe533edf419d544c7...</td>\n",
       "      <td>79000.0</td>\n",
       "      <td>4.9</td>\n",
       "      <td>giới thiệu quần áo kết hình ảnh chụp không đền...</td>\n",
       "      <td>1</td>\n",
       "      <td>23147501</td>\n",
       "    </tr>\n",
       "    <tr>\n",
       "      <th>1</th>\n",
       "      <td>232886</td>\n",
       "      <td>SÉT ĐỒ THỂ THAO NAM🚗 MẪU MONTER ĐỘC ĐÁO HÀNG B...</td>\n",
       "      <td>Thời Trang Nam</td>\n",
       "      <td>Đồ Bộ</td>\n",
       "      <td>https://shopee.vn/S%C3%89T-%C4%90%E1%BB%92-TH%...</td>\n",
       "      <td>https://cf.shopee.vn/file/b76fe4944cb0b0e6bb96...</td>\n",
       "      <td>59000.0</td>\n",
       "      <td>4.7</td>\n",
       "      <td>quần áo thể dãn mùa hè chất lạnh mẫu bảng sét ...</td>\n",
       "      <td>1</td>\n",
       "      <td>23288601</td>\n",
       "    </tr>\n",
       "    <tr>\n",
       "      <th>2</th>\n",
       "      <td>231261</td>\n",
       "      <td>Đồ Bộ hè nam 🚚 FREESHIP 🚚 Quần áo thể thao nam...</td>\n",
       "      <td>Thời Trang Nam</td>\n",
       "      <td>Đồ Bộ</td>\n",
       "      <td>https://shopee.vn/%C4%90%E1%BB%93-B%E1%BB%99-h...</td>\n",
       "      <td>https://cf.shopee.vn/file/b00adb38c9ec0584a434...</td>\n",
       "      <td>49000.0</td>\n",
       "      <td>4.7</td>\n",
       "      <td>ớng cân cân chất liệu vải mè thái giãn thoải m...</td>\n",
       "      <td>1</td>\n",
       "      <td>23126101</td>\n",
       "    </tr>\n",
       "  </tbody>\n",
       "</table>\n",
       "</div>"
      ],
      "text/plain": [
       "  product_id                                       product_name  \\\n",
       "0     231475  Bộ Quần Áo Thể Thao Thời Trang Nam Q5SHOP Form...   \n",
       "1     232886  SÉT ĐỒ THỂ THAO NAM🚗 MẪU MONTER ĐỘC ĐÁO HÀNG B...   \n",
       "2     231261  Đồ Bộ hè nam 🚚 FREESHIP 🚚 Quần áo thể thao nam...   \n",
       "\n",
       "         category sub_category  \\\n",
       "0  Thời Trang Nam        Đồ Bộ   \n",
       "1  Thời Trang Nam        Đồ Bộ   \n",
       "2  Thời Trang Nam        Đồ Bộ   \n",
       "\n",
       "                                                link  \\\n",
       "0  https://shopee.vn/B%E1%BB%99-Qu%E1%BA%A7n-%C3%...   \n",
       "1  https://shopee.vn/S%C3%89T-%C4%90%E1%BB%92-TH%...   \n",
       "2  https://shopee.vn/%C4%90%E1%BB%93-B%E1%BB%99-h...   \n",
       "\n",
       "                                               image    price rating  \\\n",
       "0  https://cf.shopee.vn/file/e96fe533edf419d544c7...  79000.0    4.9   \n",
       "1  https://cf.shopee.vn/file/b76fe4944cb0b0e6bb96...  59000.0    4.7   \n",
       "2  https://cf.shopee.vn/file/b00adb38c9ec0584a434...  49000.0    4.7   \n",
       "\n",
       "                                         description  sub_category_id  \\\n",
       "0  giới thiệu quần áo kết hình ảnh chụp không đền...                1   \n",
       "1  quần áo thể dãn mùa hè chất lạnh mẫu bảng sét ...                1   \n",
       "2  ớng cân cân chất liệu vải mè thái giãn thoải m...                1   \n",
       "\n",
       "    item_id  \n",
       "0  23147501  \n",
       "1  23288601  \n",
       "2  23126101  "
      ]
     },
     "execution_count": 16,
     "metadata": {},
     "output_type": "execute_result"
    }
   ],
   "source": [
    "### create sub_list\n",
    "list_sub = df1['sub_category'].unique().tolist()\n",
    "df1['sub_category_id'] = df1['sub_category'].map(lambda x: list_sub.index(x) +1)\n",
    "df1['item_id'] = df1.apply(lambda x: int(str(x['product_id']) + str(x['sub_category_id']).zfill(2)), axis=1)\n",
    "df1.head(3)"
   ]
  },
  {
   "cell_type": "code",
   "execution_count": 17,
   "metadata": {},
   "outputs": [],
   "source": [
    "### create a a dict to get 5 similar products\n",
    "results = {}\n",
    "\n",
    "for idx, row in df1.iterrows():    \n",
    "    similar_indices = cosine_similarities[idx].argsort()[-6:-1]\n",
    "    # similar_items = [(data_result[idx][i]) for i in similar_indices]\n",
    "    similar_items = [(cosine_similarities[idx][i], df1['item_id'][i]) for i in similar_indices]\n",
    "    # print(similar_items[0:])\n",
    "    results[row['item_id']] = similar_items[:]"
   ]
  },
  {
   "cell_type": "code",
   "execution_count": 18,
   "metadata": {},
   "outputs": [],
   "source": [
    "### get product_name by input product_id\n",
    "def item_name(product_id):\n",
    "    return df1.loc[df1['item_id'] == product_id]['product_name'].to_list()[0].split('-')[0]\n",
    "### get product recommended\n",
    "def recommend(item_id, num):\n",
    "    print('Recommend ' + str(num) + ' products similar to ' + item_name(item_id) + '....result below')\n",
    "    print('-----')\n",
    "    \n",
    "    recs = results[item_id][:num]\n",
    "    for rec in recs:\n",
    "        print(rec[1])\n",
    "        print('recommended product id:' + str(rec[1]) + ', ' + item_name(rec[1]) + '(score: )' + str(rec[0]) + ')')"
   ]
  },
  {
   "cell_type": "code",
   "execution_count": 19,
   "metadata": {},
   "outputs": [
    {
     "name": "stdout",
     "output_type": "stream",
     "text": [
      "Recommend 5 products similar to SÉT ĐỒ THỂ THAO NAM🚗 MẪU MONTER ĐỘC ĐÁO HÀNG BAO ĐẸP. FREEship....result below\n",
      "-----\n",
      "23317401\n",
      "recommended product id:23317401, Sét Bộ Quần Áo Thể Thao Kẻ Sọc Cực Chất Cao Cấp, Áo Thun Cổ Tròn Ngắn Tay (score: )0.5801808285169417)\n",
      "16226602\n",
      "recommended product id:16226602, [Có sẵn] Bộ Hè (score: )0.6128439592047839)\n",
      "23463701\n",
      "recommended product id:23463701, Bộ thể thao nam hè NY phối nâu, Bộ nam thể thao hè NY thun lạnh không xù form dáng trẻ trung(score: )0.6212948962161264)\n",
      "1663702\n",
      "recommended product id:1663702, BỘ thể thao nam nữ mẫu thun lạnh ETRENITEST mã ET(score: )0.923302359894251)\n",
      "23322101\n",
      "recommended product id:23322101, Nguyên bộ thể thao nam mẫu mới phong cách hàn quốc,🚛FREE SHIP🚛,(score: )1.0000000000000002)\n"
     ]
    }
   ],
   "source": [
    "#### try to recommend a product_id: 232886, with sub_id: 01, and 5 similar products\n",
    "recommend(23288601,5)"
   ]
  },
  {
   "cell_type": "markdown",
   "metadata": {},
   "source": [
    "### Recommendation content based"
   ]
  },
  {
   "cell_type": "code",
   "execution_count": 58,
   "metadata": {},
   "outputs": [
    {
     "name": "stdout",
     "output_type": "stream",
     "text": [
      "what are you looking for: áo Thun NGắn tay màu TRắng, vải Cotton\n"
     ]
    }
   ],
   "source": [
    "### \n",
    "user_input = input('what are you looking for: ')"
   ]
  },
  {
   "cell_type": "code",
   "execution_count": 21,
   "metadata": {},
   "outputs": [],
   "source": [
    "### clean user_input \n",
    "def pre_process(text):\n",
    "    from underthesea import word_tokenize, pos_tag, sent_tokenize\n",
    "    import re\n",
    "    import regex\n",
    "    \n",
    "    user_input = re.sub('[\\.\\:\\,\\-\\+\\d\\!\\%\\...\\\"\\*\\>\\<\\^\\&\\/\\[\\]\\(\\)\\=\\~\\#]', ' ', text)\n",
    "    user_input = regex.sub(r'\\s+', ' ', user_input).strip()\n",
    "    \n",
    "    def loaddicchar():\n",
    "            uniChars = \"àáảãạâầấẩẫậăằắẳẵặèéẻẽẹêềếểễệđìíỉĩịòóỏõọôồốổỗộơờớởỡợùúủũụưừứửữựỳýỷỹỵÀÁẢÃẠÂẦẤẨẪẬĂẰẮẲẴẶÈÉẺẼẸÊỀẾỂỄỆĐÌÍỈĨỊÒÓỎÕỌÔỒỐỔỖỘƠỜỚỞỠỢÙÚỦŨỤƯỪỨỬỮỰỲÝỶỸỴÂĂĐÔƠƯ\"\n",
    "            unsignChars = \"aaaaaaaaaaaaaaaaaeeeeeeeeeeediiiiiooooooooooooooooouuuuuuuuuuuyyyyyAAAAAAAAAAAAAAAAAEEEEEEEEEEEDIIIOOOOOOOOOOOOOOOOOOOUUUUUUUUUUUYYYYYAADOOU\"\n",
    "\n",
    "            dic = {}\n",
    "            char1252 = 'à|á|ả|ã|ạ|ầ|ấ|ẩ|ẫ|ậ|ằ|ắ|ẳ|ẵ|ặ|è|é|ẻ|ẽ|ẹ|ề|ế|ể|ễ|ệ|ì|í|ỉ|ĩ|ị|ò|ó|ỏ|õ|ọ|ồ|ố|ổ|ỗ|ộ|ờ|ớ|ở|ỡ|ợ|ù|ú|ủ|ũ|ụ|ừ|ứ|ử|ữ|ự|ỳ|ý|ỷ|ỹ|ỵ|À|Á|Ả|Ã|Ạ|Ầ|Ấ|Ẩ|Ẫ|Ậ|Ằ|Ắ|Ẳ|Ẵ|Ặ|È|É|Ẻ|Ẽ|Ẹ|Ề|Ế|Ể|Ễ|Ệ|Ì|Í|Ỉ|Ĩ|Ị|Ò|Ó|Ỏ|Õ|Ọ|Ồ|Ố|Ổ|Ỗ|Ộ|Ờ|Ớ|Ở|Ỡ|Ợ|Ù|Ú|Ủ|Ũ|Ụ|Ừ|Ứ|Ử|Ữ|Ự|Ỳ|Ý|Ỷ|Ỹ|Ỵ'.split(\n",
    "                '|')\n",
    "            charutf8 = \"à|á|ả|ã|ạ|ầ|ấ|ẩ|ẫ|ậ|ằ|ắ|ẳ|ẵ|ặ|è|é|ẻ|ẽ|ẹ|ề|ế|ể|ễ|ệ|ì|í|ỉ|ĩ|ị|ò|ó|ỏ|õ|ọ|ồ|ố|ổ|ỗ|ộ|ờ|ớ|ở|ỡ|ợ|ù|ú|ủ|ũ|ụ|ừ|ứ|ử|ữ|ự|ỳ|ý|ỷ|ỹ|ỵ|À|Á|Ả|Ã|Ạ|Ầ|Ấ|Ẩ|Ẫ|Ậ|Ằ|Ắ|Ẳ|Ẵ|Ặ|È|É|Ẻ|Ẽ|Ẹ|Ề|Ế|Ể|Ễ|Ệ|Ì|Í|Ỉ|Ĩ|Ị|Ò|Ó|Ỏ|Õ|Ọ|Ồ|Ố|Ổ|Ỗ|Ộ|Ờ|Ớ|Ở|Ỡ|Ợ|Ù|Ú|Ủ|Ũ|Ụ|Ừ|Ứ|Ử|Ữ|Ự|Ỳ|Ý|Ỷ|Ỹ|Ỵ\".split(\n",
    "                '|')\n",
    "            for i in range(len(char1252)):\n",
    "                dic[char1252[i]] = charutf8[i]\n",
    "            return dic\n",
    "         \n",
    "        # \n",
    "    def covert_unicode(txt):\n",
    "            dicchar = loaddicchar()\n",
    "            return regex.sub(\n",
    "                r'à|á|ả|ã|ạ|ầ|ấ|ẩ|ẫ|ậ|ằ|ắ|ẳ|ẵ|ặ|è|é|ẻ|ẽ|ẹ|ề|ế|ể|ễ|ệ|ì|í|ỉ|ĩ|ị|ò|ó|ỏ|õ|ọ|ồ|ố|ổ|ỗ|ộ|ờ|ớ|ở|ỡ|ợ|ù|ú|ủ|ũ|ụ|ừ|ứ|ử|ữ|ự|ỳ|ý|ỷ|ỹ|ỵ|À|Á|Ả|Ã|Ạ|Ầ|Ấ|Ẩ|Ẫ|Ậ|Ằ|Ắ|Ẳ|Ẵ|Ặ|È|É|Ẻ|Ẽ|Ẹ|Ề|Ế|Ể|Ễ|Ệ|Ì|Í|Ỉ|Ĩ|Ị|Ò|Ó|Ỏ|Õ|Ọ|Ồ|Ố|Ổ|Ỗ|Ộ|Ờ|Ớ|Ở|Ỡ|Ợ|Ù|Ú|Ủ|Ũ|Ụ|Ừ|Ứ|Ử|Ữ|Ự|Ỳ|Ý|Ỷ|Ỹ|Ỵ',\n",
    "                lambda x: dicchar[x.group()], txt)\n",
    "                \n",
    "    user_input = covert_unicode(user_input)\n",
    "    user_input = word_tokenize(user_input, format=\"text\")\n",
    "    user_input = user_input.lower()\n",
    "    \n",
    "    return user_input"
   ]
  },
  {
   "cell_type": "code",
   "execution_count": 87,
   "metadata": {},
   "outputs": [],
   "source": [
    "### funct to compute similarity\n",
    "def user_input_processing(list1):\n",
    "    \n",
    "    ### bug terable over raw text documents expected, string object received\n",
    "    ### Input should be in Square Brackets.\n",
    "    list_process = [pre_process(list1)]\n",
    "    tf_matrix2 = tf.transform(list_process)\n",
    "    \n",
    "    cosine2 = cosine_similarity(tfidf_matrix, tf_matrix2)\n",
    "    \n",
    "    ### to dataframe and get indices\n",
    "    df_user = pd.DataFrame(cosine2)\n",
    "    df_top5 = df_user.sort_values(by=[0],ascending=False)[:5]\n",
    "    list_index = df_top5.index.values.tolist()\n",
    "    \n",
    "    return list_process, cosine2, list_index, df_top5"
   ]
  },
  {
   "cell_type": "code",
   "execution_count": 90,
   "metadata": {},
   "outputs": [],
   "source": [
    "list_process, cosine2, list_index, df_top5 = user_input_processing(user_input)"
   ]
  },
  {
   "cell_type": "code",
   "execution_count": 91,
   "metadata": {},
   "outputs": [
    {
     "name": "stdout",
     "output_type": "stream",
     "text": [
      "User input:  áo Thun NGắn tay màu TRắng, vải Cotton\n",
      "After clean process:  ['áo_thun ngắn tay màu trắng vải cotton']\n"
     ]
    }
   ],
   "source": [
    "### print user_input after clean_process\n",
    "print('User input: ',user_input)\n",
    "print('After clean process: ', list_process)"
   ]
  },
  {
   "cell_type": "code",
   "execution_count": 98,
   "metadata": {
    "scrolled": true
   },
   "outputs": [
    {
     "data": {
      "text/plain": [
       "array([[0.53067313],\n",
       "       [0.50564654],\n",
       "       [0.50564654],\n",
       "       [0.44408642],\n",
       "       [0.43938751]])"
      ]
     },
     "execution_count": 98,
     "metadata": {},
     "output_type": "execute_result"
    }
   ],
   "source": [
    "### sort result of cosine then get 5 top value\n",
    "np.sort(cosine2,axis=0)[::-1][:5]"
   ]
  },
  {
   "cell_type": "code",
   "execution_count": 95,
   "metadata": {},
   "outputs": [
    {
     "data": {
      "text/plain": [
       "[12005, 4769, 17502, 13225, 11933]"
      ]
     },
     "execution_count": 95,
     "metadata": {},
     "output_type": "execute_result"
    }
   ],
   "source": [
    "#### recommeded index\n",
    "list_index"
   ]
  },
  {
   "cell_type": "code",
   "execution_count": 96,
   "metadata": {},
   "outputs": [],
   "source": [
    "### get row from a list index\n",
    "df_recommend = df1.iloc[list_index]\n",
    "df_recommend.reset_index(drop=True, inplace=True)"
   ]
  },
  {
   "cell_type": "code",
   "execution_count": 97,
   "metadata": {},
   "outputs": [
    {
     "data": {
      "text/html": [
       "<div>\n",
       "<style scoped>\n",
       "    .dataframe tbody tr th:only-of-type {\n",
       "        vertical-align: middle;\n",
       "    }\n",
       "\n",
       "    .dataframe tbody tr th {\n",
       "        vertical-align: top;\n",
       "    }\n",
       "\n",
       "    .dataframe thead th {\n",
       "        text-align: right;\n",
       "    }\n",
       "</style>\n",
       "<table border=\"1\" class=\"dataframe\">\n",
       "  <thead>\n",
       "    <tr style=\"text-align: right;\">\n",
       "      <th></th>\n",
       "      <th>product_id</th>\n",
       "      <th>product_name</th>\n",
       "      <th>category</th>\n",
       "      <th>sub_category</th>\n",
       "      <th>link</th>\n",
       "      <th>image</th>\n",
       "      <th>price</th>\n",
       "      <th>rating</th>\n",
       "      <th>description</th>\n",
       "      <th>sub_category_id</th>\n",
       "      <th>item_id</th>\n",
       "    </tr>\n",
       "  </thead>\n",
       "  <tbody>\n",
       "    <tr>\n",
       "      <th>0</th>\n",
       "      <td>26579</td>\n",
       "      <td>Đồ ngủ nam, tay ngắn, tất - Hàng nhập khẩu</td>\n",
       "      <td>Thời Trang Nam</td>\n",
       "      <td>Đồ Ngủ</td>\n",
       "      <td>https://shopee.vn/%C4%90%E1%BB%93-ng%E1%BB%A7-...</td>\n",
       "      <td>nan</td>\n",
       "      <td>607300.0</td>\n",
       "      <td>0.0</td>\n",
       "      <td>ên hệ hàng cổ áo cổ tròn áo kiểu tiết độ phù h...</td>\n",
       "      <td>12</td>\n",
       "      <td>2657912</td>\n",
       "    </tr>\n",
       "    <tr>\n",
       "      <th>1</th>\n",
       "      <td>241187</td>\n",
       "      <td>TAI NGHE Silver.crest</td>\n",
       "      <td>Thời Trang Nam</td>\n",
       "      <td>Đồ Hóa Trang</td>\n",
       "      <td>https://shopee.vn/TAI-NGHE-Silver.crest-i.1593...</td>\n",
       "      <td>https://cf.shopee.vn/file/ba857396a70961afe7dd...</td>\n",
       "      <td>323000.0</td>\n",
       "      <td>5.0</td>\n",
       "      <td>màu đen trắng màu đen trắng màu đen trắng màu ...</td>\n",
       "      <td>5</td>\n",
       "      <td>24118705</td>\n",
       "    </tr>\n",
       "    <tr>\n",
       "      <th>2</th>\n",
       "      <td>22670</td>\n",
       "      <td>Áo tê vịt quack quack đen - trắng</td>\n",
       "      <td>Thời Trang Nam</td>\n",
       "      <td>Áo Vest và Blazer</td>\n",
       "      <td>https://shopee.vn/%C3%81o-t%C3%AA-v%E1%BB%8Bt-...</td>\n",
       "      <td>nan</td>\n",
       "      <td>155000.0</td>\n",
       "      <td>5.0</td>\n",
       "      <td>màu đen trắng</td>\n",
       "      <td>17</td>\n",
       "      <td>2267017</td>\n",
       "    </tr>\n",
       "    <tr>\n",
       "      <th>3</th>\n",
       "      <td>201173</td>\n",
       "      <td>Áo thun tay dài thời trang năng động khi chơi ...</td>\n",
       "      <td>Thời Trang Nam</td>\n",
       "      <td>Áo Hoodie, Áo Len &amp; Áo Nỉ</td>\n",
       "      <td>https://shopee.vn/%C3%81o-thun-tay-d%C3%A0i-th...</td>\n",
       "      <td>https://cf.shopee.vn/file/282d2fedc27ab8885547...</td>\n",
       "      <td>77000.0</td>\n",
       "      <td>4.5</td>\n",
       "      <td>ời hàng dự kiến sản phẩm vải chất liệu sợi hàm...</td>\n",
       "      <td>13</td>\n",
       "      <td>20117313</td>\n",
       "    </tr>\n",
       "    <tr>\n",
       "      <th>4</th>\n",
       "      <td>261127</td>\n",
       "      <td>☃▦✳Bộ Đồ Ngủ 100% Cotton Tay Ngắn Phong Cách H...</td>\n",
       "      <td>Thời Trang Nam</td>\n",
       "      <td>Đồ Ngủ</td>\n",
       "      <td>https://shopee.vn/%E2%98%83%E2%96%A6%E2%9C%B3B...</td>\n",
       "      <td>https://cf.shopee.vn/file/e48626ec94d6b52b12d0...</td>\n",
       "      <td>573000.0</td>\n",
       "      <td>0.0</td>\n",
       "      <td>hàng tỉnh quảng đông vải cotton chất liệu vải ...</td>\n",
       "      <td>12</td>\n",
       "      <td>26112712</td>\n",
       "    </tr>\n",
       "  </tbody>\n",
       "</table>\n",
       "</div>"
      ],
      "text/plain": [
       "  product_id                                       product_name  \\\n",
       "0      26579         Đồ ngủ nam, tay ngắn, tất - Hàng nhập khẩu   \n",
       "1     241187                              TAI NGHE Silver.crest   \n",
       "2      22670                  Áo tê vịt quack quack đen - trắng   \n",
       "3     201173  Áo thun tay dài thời trang năng động khi chơi ...   \n",
       "4     261127  ☃▦✳Bộ Đồ Ngủ 100% Cotton Tay Ngắn Phong Cách H...   \n",
       "\n",
       "         category               sub_category  \\\n",
       "0  Thời Trang Nam                     Đồ Ngủ   \n",
       "1  Thời Trang Nam               Đồ Hóa Trang   \n",
       "2  Thời Trang Nam          Áo Vest và Blazer   \n",
       "3  Thời Trang Nam  Áo Hoodie, Áo Len & Áo Nỉ   \n",
       "4  Thời Trang Nam                     Đồ Ngủ   \n",
       "\n",
       "                                                link  \\\n",
       "0  https://shopee.vn/%C4%90%E1%BB%93-ng%E1%BB%A7-...   \n",
       "1  https://shopee.vn/TAI-NGHE-Silver.crest-i.1593...   \n",
       "2  https://shopee.vn/%C3%81o-t%C3%AA-v%E1%BB%8Bt-...   \n",
       "3  https://shopee.vn/%C3%81o-thun-tay-d%C3%A0i-th...   \n",
       "4  https://shopee.vn/%E2%98%83%E2%96%A6%E2%9C%B3B...   \n",
       "\n",
       "                                               image     price rating  \\\n",
       "0                                                nan  607300.0    0.0   \n",
       "1  https://cf.shopee.vn/file/ba857396a70961afe7dd...  323000.0    5.0   \n",
       "2                                                nan  155000.0    5.0   \n",
       "3  https://cf.shopee.vn/file/282d2fedc27ab8885547...   77000.0    4.5   \n",
       "4  https://cf.shopee.vn/file/e48626ec94d6b52b12d0...  573000.0    0.0   \n",
       "\n",
       "                                         description  sub_category_id  \\\n",
       "0  ên hệ hàng cổ áo cổ tròn áo kiểu tiết độ phù h...               12   \n",
       "1  màu đen trắng màu đen trắng màu đen trắng màu ...                5   \n",
       "2                                      màu đen trắng               17   \n",
       "3  ời hàng dự kiến sản phẩm vải chất liệu sợi hàm...               13   \n",
       "4  hàng tỉnh quảng đông vải cotton chất liệu vải ...               12   \n",
       "\n",
       "    item_id  \n",
       "0   2657912  \n",
       "1  24118705  \n",
       "2   2267017  \n",
       "3  20117313  \n",
       "4  26112712  "
      ]
     },
     "execution_count": 97,
     "metadata": {},
     "output_type": "execute_result"
    }
   ],
   "source": [
    "### return a dataframe of recommended items \n",
    "df_recommend"
   ]
  }
 ],
 "metadata": {
  "colab": {
   "provenance": []
  },
  "kernelspec": {
   "display_name": "Python 3 (ipykernel)",
   "language": "python",
   "name": "python3"
  },
  "language_info": {
   "codemirror_mode": {
    "name": "ipython",
    "version": 3
   },
   "file_extension": ".py",
   "mimetype": "text/x-python",
   "name": "python",
   "nbconvert_exporter": "python",
   "pygments_lexer": "ipython3",
   "version": "3.8.8"
  }
 },
 "nbformat": 4,
 "nbformat_minor": 1
}
