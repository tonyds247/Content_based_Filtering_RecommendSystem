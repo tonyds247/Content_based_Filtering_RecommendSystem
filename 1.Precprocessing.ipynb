{
 "cells": [
  {
   "cell_type": "code",
   "execution_count": 1,
   "id": "8e4f4866",
   "metadata": {},
   "outputs": [],
   "source": [
    "#pip install clean-text"
   ]
  },
  {
   "cell_type": "code",
   "execution_count": 2,
   "id": "b5a6ea4c",
   "metadata": {},
   "outputs": [],
   "source": [
    "import numpy as np\n",
    "import pandas as pd\n",
    "import re\n",
    "import dask\n",
    "import dask.dataframe as dd\n",
    "from dask.diagnostics import ProgressBar\n",
    "from dask.distributed import Client, LocalCluster\n",
    "from pyvi import ViPosTagger, ViTokenizer\n",
    "import string\n",
    "from wordcloud import WordCloud\n",
    "import warnings\n",
    "warnings.filterwarnings('ignore')\n",
    "%matplotlib inline"
   ]
  },
  {
   "cell_type": "markdown",
   "id": "616fdca6",
   "metadata": {},
   "source": [
    "### Load File"
   ]
  },
  {
   "cell_type": "code",
   "execution_count": 3,
   "id": "8d97d867",
   "metadata": {},
   "outputs": [],
   "source": [
    "df1= pd.read_csv(\"Products_ThoiTrangNam_raw.csv\", encoding=\"utf-8\")"
   ]
  },
  {
   "cell_type": "code",
   "execution_count": 4,
   "id": "f305f590",
   "metadata": {
    "scrolled": true
   },
   "outputs": [
    {
     "data": {
      "text/html": [
       "<div>\n",
       "<style scoped>\n",
       "    .dataframe tbody tr th:only-of-type {\n",
       "        vertical-align: middle;\n",
       "    }\n",
       "\n",
       "    .dataframe tbody tr th {\n",
       "        vertical-align: top;\n",
       "    }\n",
       "\n",
       "    .dataframe thead th {\n",
       "        text-align: right;\n",
       "    }\n",
       "</style>\n",
       "<table border=\"1\" class=\"dataframe\">\n",
       "  <thead>\n",
       "    <tr style=\"text-align: right;\">\n",
       "      <th></th>\n",
       "      <th>product_id</th>\n",
       "      <th>product_name</th>\n",
       "      <th>category</th>\n",
       "      <th>sub_category</th>\n",
       "      <th>link</th>\n",
       "      <th>image</th>\n",
       "      <th>price</th>\n",
       "      <th>rating</th>\n",
       "      <th>description</th>\n",
       "    </tr>\n",
       "  </thead>\n",
       "  <tbody>\n",
       "    <tr>\n",
       "      <th>0</th>\n",
       "      <td>190</td>\n",
       "      <td>Áo ba lỗ thun gân ,form body tôn dáng</td>\n",
       "      <td>Thời Trang Nam</td>\n",
       "      <td>Áo Ba Lỗ</td>\n",
       "      <td>https://shopee.vn/%C3%81o-ba-l%E1%BB%97-thun-g...</td>\n",
       "      <td>https://cf.shopee.vn/file/2c1ca03f5dc42f316fdf...</td>\n",
       "      <td>86250.0</td>\n",
       "      <td>4.9</td>\n",
       "      <td>Danh Mục\\nShopee\\nThời Trang Nam\\nÁo Ba Lỗ\\nCh...</td>\n",
       "    </tr>\n",
       "    <tr>\n",
       "      <th>1</th>\n",
       "      <td>191</td>\n",
       "      <td>Áo Ba Lỗ Nam Trắng Chất Cotton Siêu Mát, Siêu Đẹp</td>\n",
       "      <td>Thời Trang Nam</td>\n",
       "      <td>Áo Ba Lỗ</td>\n",
       "      <td>https://shopee.vn/%C3%81o-Ba-L%E1%BB%97-Nam-Tr...</td>\n",
       "      <td>https://cf.shopee.vn/file/c7ea4c6574dc79be6b26...</td>\n",
       "      <td>26800.0</td>\n",
       "      <td>4.9</td>\n",
       "      <td>Danh Mục\\nShopee\\nThời Trang Nam\\nÁo Ba Lỗ\\nXu...</td>\n",
       "    </tr>\n",
       "    <tr>\n",
       "      <th>2</th>\n",
       "      <td>192</td>\n",
       "      <td>Áo Ba Lỗ Nam Tyasuo chất vải co dãn mát, không...</td>\n",
       "      <td>Thời Trang Nam</td>\n",
       "      <td>Áo Ba Lỗ</td>\n",
       "      <td>https://shopee.vn/%C3%81o-Ba-L%E1%BB%97-Nam-Ty...</td>\n",
       "      <td>https://cf.shopee.vn/file/6f93bcda10efe374f8cc...</td>\n",
       "      <td>39500.0</td>\n",
       "      <td>4.8</td>\n",
       "      <td>Danh Mục\\nShopee\\nThời Trang Nam\\nÁo Ba Lỗ\\nTh...</td>\n",
       "    </tr>\n",
       "    <tr>\n",
       "      <th>3</th>\n",
       "      <td>193</td>\n",
       "      <td>ÁO BA LỖ HÀNG VIỆT NAM 100% COTTON</td>\n",
       "      <td>Thời Trang Nam</td>\n",
       "      <td>Áo Ba Lỗ</td>\n",
       "      <td>https://shopee.vn/%C3%81O-BA-L%E1%BB%96-H%C3%8...</td>\n",
       "      <td>https://cf.shopee.vn/file/1d7ed5e34bff8bc8b49a...</td>\n",
       "      <td>16500.0</td>\n",
       "      <td>4.8</td>\n",
       "      <td>Danh Mục\\nShopee\\nThời Trang Nam\\nÁo Ba Lỗ\\nCh...</td>\n",
       "    </tr>\n",
       "    <tr>\n",
       "      <th>4</th>\n",
       "      <td>194</td>\n",
       "      <td>Áo Thun Nam Thể Thao Ba Lỗ Mẫu Mới Siêu Đẹp (B...</td>\n",
       "      <td>Thời Trang Nam</td>\n",
       "      <td>Áo Ba Lỗ</td>\n",
       "      <td>https://shopee.vn/%C3%81o-Thun-Nam-Th%E1%BB%83...</td>\n",
       "      <td>NaN</td>\n",
       "      <td>45000.0</td>\n",
       "      <td>4.8</td>\n",
       "      <td>Danh Mục\\nShopee\\nThời Trang Nam\\nÁo Ba Lỗ\\nCh...</td>\n",
       "    </tr>\n",
       "  </tbody>\n",
       "</table>\n",
       "</div>"
      ],
      "text/plain": [
       "   product_id                                       product_name  \\\n",
       "0         190              Áo ba lỗ thun gân ,form body tôn dáng   \n",
       "1         191  Áo Ba Lỗ Nam Trắng Chất Cotton Siêu Mát, Siêu Đẹp   \n",
       "2         192  Áo Ba Lỗ Nam Tyasuo chất vải co dãn mát, không...   \n",
       "3         193                 ÁO BA LỖ HÀNG VIỆT NAM 100% COTTON   \n",
       "4         194  Áo Thun Nam Thể Thao Ba Lỗ Mẫu Mới Siêu Đẹp (B...   \n",
       "\n",
       "         category sub_category  \\\n",
       "0  Thời Trang Nam     Áo Ba Lỗ   \n",
       "1  Thời Trang Nam     Áo Ba Lỗ   \n",
       "2  Thời Trang Nam     Áo Ba Lỗ   \n",
       "3  Thời Trang Nam     Áo Ba Lỗ   \n",
       "4  Thời Trang Nam     Áo Ba Lỗ   \n",
       "\n",
       "                                                link  \\\n",
       "0  https://shopee.vn/%C3%81o-ba-l%E1%BB%97-thun-g...   \n",
       "1  https://shopee.vn/%C3%81o-Ba-L%E1%BB%97-Nam-Tr...   \n",
       "2  https://shopee.vn/%C3%81o-Ba-L%E1%BB%97-Nam-Ty...   \n",
       "3  https://shopee.vn/%C3%81O-BA-L%E1%BB%96-H%C3%8...   \n",
       "4  https://shopee.vn/%C3%81o-Thun-Nam-Th%E1%BB%83...   \n",
       "\n",
       "                                               image    price  rating  \\\n",
       "0  https://cf.shopee.vn/file/2c1ca03f5dc42f316fdf...  86250.0     4.9   \n",
       "1  https://cf.shopee.vn/file/c7ea4c6574dc79be6b26...  26800.0     4.9   \n",
       "2  https://cf.shopee.vn/file/6f93bcda10efe374f8cc...  39500.0     4.8   \n",
       "3  https://cf.shopee.vn/file/1d7ed5e34bff8bc8b49a...  16500.0     4.8   \n",
       "4                                                NaN  45000.0     4.8   \n",
       "\n",
       "                                         description  \n",
       "0  Danh Mục\\nShopee\\nThời Trang Nam\\nÁo Ba Lỗ\\nCh...  \n",
       "1  Danh Mục\\nShopee\\nThời Trang Nam\\nÁo Ba Lỗ\\nXu...  \n",
       "2  Danh Mục\\nShopee\\nThời Trang Nam\\nÁo Ba Lỗ\\nTh...  \n",
       "3  Danh Mục\\nShopee\\nThời Trang Nam\\nÁo Ba Lỗ\\nCh...  \n",
       "4  Danh Mục\\nShopee\\nThời Trang Nam\\nÁo Ba Lỗ\\nCh...  "
      ]
     },
     "execution_count": 4,
     "metadata": {},
     "output_type": "execute_result"
    }
   ],
   "source": [
    "df1.head()"
   ]
  },
  {
   "cell_type": "code",
   "execution_count": 5,
   "id": "7fa44539",
   "metadata": {},
   "outputs": [
    {
     "data": {
      "text/plain": [
       "(49663, 9)"
      ]
     },
     "execution_count": 5,
     "metadata": {},
     "output_type": "execute_result"
    }
   ],
   "source": [
    "df1.shape"
   ]
  },
  {
   "cell_type": "code",
   "execution_count": 6,
   "id": "4aa3bf9b",
   "metadata": {
    "scrolled": true
   },
   "outputs": [
    {
     "data": {
      "text/plain": [
       "'Danh Mục\\nShopee\\nThời Trang Nam\\nÁo Ba Lỗ\\nChất liệu\\nCotton\\nKho hàng\\n7981\\nGửi từ\\nHà Nội\\n\\n--------------------Áo Ba Lỗ Nam CAO CẤP 100% Cotton Mặc nhà-----------------------\\nHàng chất liệu 100% cotton, mặt vải mịn, thoáng khí, co giãn tốt, có khả năng thấm hút nước cao, thoát nước nhanh khô, đem lại cảm giác thoải mái, tự tin cho người sử dụng, quy trình xử lý vải an toàn, không độc hại, không gây kích ứng da.\\nÁo có thể mặc lót trong sơ mi hay mặc đi thể thao,trong nhà đều được. Kiểu giáng đơn giản phù hợp với đại đa số.\\n\\nÁo có size M, L, XL (2L), XXL (3L)\\nSize M : ngực 85-93, cao 160-165, 50-60kg\\nSize L: ngực 93-101, cao 165-170, 60-65kg\\nSize 2L: ngực 101-109, cao 170-175, 66-75kg\\n\\n#aothun #aobalo #chatcotton'"
      ]
     },
     "execution_count": 6,
     "metadata": {},
     "output_type": "execute_result"
    }
   ],
   "source": [
    "df1.iloc[3]['description']"
   ]
  },
  {
   "cell_type": "markdown",
   "id": "1e426daf",
   "metadata": {},
   "source": [
    "### Check NaN"
   ]
  },
  {
   "cell_type": "code",
   "execution_count": 7,
   "id": "f262827c",
   "metadata": {},
   "outputs": [
    {
     "data": {
      "text/plain": [
       "963"
      ]
     },
     "execution_count": 7,
     "metadata": {},
     "output_type": "execute_result"
    }
   ],
   "source": [
    "df1['description'].isnull().sum()"
   ]
  },
  {
   "cell_type": "code",
   "execution_count": 8,
   "id": "a8a5be49",
   "metadata": {},
   "outputs": [],
   "source": [
    "df1 = df1[~df1['description'].isnull()]"
   ]
  },
  {
   "cell_type": "code",
   "execution_count": 9,
   "id": "fcc700cd",
   "metadata": {},
   "outputs": [
    {
     "data": {
      "text/plain": [
       "(48700, 9)"
      ]
     },
     "execution_count": 9,
     "metadata": {},
     "output_type": "execute_result"
    }
   ],
   "source": [
    "df1.shape"
   ]
  },
  {
   "cell_type": "code",
   "execution_count": 10,
   "id": "52b11f4d",
   "metadata": {
    "scrolled": true
   },
   "outputs": [
    {
     "data": {
      "text/plain": [
       "Đồ Bộ                        5095\n",
       "Trang Phục Truyền Thống      5070\n",
       "Khác                         5005\n",
       "Vớ/Tất                       4937\n",
       "Đồ Hóa Trang                 4893\n",
       "Cà vạt & Nơ cổ               4626\n",
       "Kính Mắt Nam                 4162\n",
       "Áo Khoác                     1616\n",
       "Quần Short                   1500\n",
       "Quần Jeans                   1500\n",
       "Áo Ba Lỗ                     1500\n",
       "Đồ Ngủ                       1500\n",
       "Áo Hoodie, Áo Len & Áo Nỉ    1500\n",
       "Đồ Lót                       1500\n",
       "Quần Dài/Quần Âu             1498\n",
       "Áo                           1434\n",
       "Áo Vest và Blazer            1364\n",
       "Name: sub_category, dtype: int64"
      ]
     },
     "execution_count": 10,
     "metadata": {},
     "output_type": "execute_result"
    }
   ],
   "source": [
    "df1['sub_category'].value_counts()"
   ]
  },
  {
   "cell_type": "code",
   "execution_count": 11,
   "id": "cf336372",
   "metadata": {},
   "outputs": [],
   "source": [
    "df0 = df1[df1['sub_category']== 'Đồ Bộ'].sample(frac=0.2)\n",
    "df2 = df1[df1['sub_category']== 'Trang Phục Truyền Thống'].sample(frac=0.2)\n",
    "df3 = df1[df1['sub_category']== 'Khác'].sample(frac=0.2)\n",
    "df4 = df1[df1['sub_category']== 'Vớ/Tất'].sample(frac=0.2)\n",
    "df5 = df1[df1['sub_category']== 'Đồ Hóa Trang'].sample(frac=0.2)\n",
    "df6 = df1[df1['sub_category']== 'Cà vạt & Nơ cổ'].sample(frac=0.25)\n",
    "df7 = df1[df1['sub_category']== 'Kính Mắt Nam'].sample(frac=0.25)\n",
    "df8 = df1[df1['sub_category']== 'Áo Khoác'].sample(frac=0.7)\n",
    "df9 = df1[df1['sub_category']== 'Quần Short'].sample(frac=0.7)\n",
    "df10 = df1[df1['sub_category']== 'Quần Jeans'].sample(frac=0.7)\n",
    "df11 = df1[df1['sub_category']== 'Áo Ba Lỗ'].sample(frac=0.7)\n",
    "df12 = df1[df1['sub_category']== 'Đồ Ngủ'].sample(frac=0.7)\n",
    "df13 = df1[df1['sub_category']== 'Áo Hoodie, Áo Len & Áo Nỉ'].sample(frac=0.7)\n",
    "df14 = df1[df1['sub_category']== 'Đồ Lót'].sample(frac=0.7)\n",
    "df15 = df1[df1['sub_category']== 'Quần Dài/Quần Âu'].sample(frac=0.7)\n",
    "df16 = df1[df1['sub_category']== 'Áo'].sample(frac=0.7)\n",
    "df17 = df1[df1['sub_category']== 'Áo Vest và Blazer'].sample(frac=0.8)"
   ]
  },
  {
   "cell_type": "code",
   "execution_count": 12,
   "id": "0efd9f4c",
   "metadata": {},
   "outputs": [],
   "source": [
    "frames = [df0,df2,df3,df4,df5,df6,df7,df8,df9,df10,df11,df12,df13,df14,df15,df16,df17]\n",
    "df_new = pd.concat(frames)"
   ]
  },
  {
   "cell_type": "code",
   "execution_count": 13,
   "id": "a02e0130",
   "metadata": {},
   "outputs": [
    {
     "data": {
      "text/plain": [
       "Cà vạt & Nơ cổ               1156\n",
       "Áo Khoác                     1131\n",
       "Áo Vest và Blazer            1091\n",
       "Quần Jeans                   1050\n",
       "Đồ Lót                       1050\n",
       "Áo Hoodie, Áo Len & Áo Nỉ    1050\n",
       "Đồ Ngủ                       1050\n",
       "Áo Ba Lỗ                     1050\n",
       "Quần Short                   1050\n",
       "Quần Dài/Quần Âu             1049\n",
       "Kính Mắt Nam                 1040\n",
       "Đồ Bộ                        1019\n",
       "Trang Phục Truyền Thống      1014\n",
       "Áo                           1004\n",
       "Khác                         1001\n",
       "Vớ/Tất                        987\n",
       "Đồ Hóa Trang                  979\n",
       "Name: sub_category, dtype: int64"
      ]
     },
     "execution_count": 13,
     "metadata": {},
     "output_type": "execute_result"
    }
   ],
   "source": [
    "df_new['sub_category'].value_counts()"
   ]
  },
  {
   "cell_type": "code",
   "execution_count": 14,
   "id": "7a4ad30f",
   "metadata": {},
   "outputs": [],
   "source": [
    "df_new.reset_index(drop=True, inplace=True)"
   ]
  },
  {
   "cell_type": "code",
   "execution_count": 15,
   "id": "44830458",
   "metadata": {},
   "outputs": [
    {
     "data": {
      "text/plain": [
       "(17771, 9)"
      ]
     },
     "execution_count": 15,
     "metadata": {},
     "output_type": "execute_result"
    }
   ],
   "source": [
    "df_new.shape"
   ]
  },
  {
   "cell_type": "code",
   "execution_count": 16,
   "id": "338a4328",
   "metadata": {},
   "outputs": [
    {
     "data": {
      "text/plain": [
       "'Danh Mục\\nShopee\\nThời Trang Nam\\nĐồ Bộ\\nMẫu\\nIn\\nKho hàng\\n244342\\nGửi từ\\nQuận 12, TP. Hồ Chí Minh\\n\\nLƯU Ý:CÁC BẠN ĐẶT HÀNG THÀNH CÔNG, SHOP SẼ GỌI ĐIỆN LẠI TƯ VẤN SEZI ÁO CỤ THỂ KHÁCH NHÉ! \\n\\nCÁC BẠN VÀO PHẦN MUA HÀNG ĐẶT SỐ LƯỢNG 01 LÀ ĐƯỢC 2 ÁO.\\n\\n Sản phẩm có 6 size S, M , L ,XL ,XXL ,XXXL ,Freesize Nam Nữ.\\n\\nSize: S-M-L XL-XXL-XXL \\n\\nSize : S Dành cho bạn dưới 49 kg trở xuống cao dưới `1 m 60\\n\\nSize: m Dành cho bạn 57 kg trở xuống cao dưới1 m 70\\n\\nSize: L Dành cho bạn  68 kg trở xuống cao dưới 1M 75\\n\\nSize : XL Dành cho bạn 75 kg trở xuống\\n\\nSize : XXL Dành cho bạn  dưới 85 kg \\n\\nSize : XXXL Dành cho bạn dưới 95kg \\n\\n\\nChất liệu : thun cotton không pha bất kỳ tạp chất mềm mịn co giãn tốt , tạo cho người mặc cảm giác cực kỳ thoải mái khi mặc . chất thun có tinh năng thấm hut môt hôi tốt ngay cả khi hoạt động ngoài trời , các bạn có thể phối hợp với , quần jean , chân váy , dày thể thao , theo phong cách cực teen\\n\\nLƯU Ý SHOP CHỈ BÁN HÀNG LOẠI 1 KHÔNG BÁN HÀNG LOẠI 2 LOẠI 3 HÀNG KÉM CHẤT LƯỢNG\\n\\nCÁC SẢN PHẨM ĐƯỢC SẢN XUẤT TẬN XƯỞNG KHÔNG QUA TRUNG GIAN ,\\n\\nRẺ ĐẸP- CHẤT LƯỢNG !\\n\\nCam kết : Shop không bán hàng chợ hàng trung quốc,hàng kém chất lượng,không lừa đảo về hình ảnh cũng như chất lượng,bao đổi trả trong vòng 7 ngày .Shop khuyến khích người mua tới trực tiếp cửa hàng .\\n\\nĐịa chỉ Shop :141 đường tân thới hiệp 20, P. Tân thới hiệp, Quận 12 , Ho chi minh \\n\\nHotline :ZALO  0978 805 956  MUA SỈ XIN GỌI'"
      ]
     },
     "execution_count": 16,
     "metadata": {},
     "output_type": "execute_result"
    }
   ],
   "source": [
    "df_new.iloc[7]['description']"
   ]
  },
  {
   "cell_type": "markdown",
   "id": "f7e054cf",
   "metadata": {},
   "source": [
    "### PreProcess"
   ]
  },
  {
   "cell_type": "code",
   "execution_count": 17,
   "id": "a5c31810",
   "metadata": {},
   "outputs": [],
   "source": [
    "from xulyvni import *"
   ]
  },
  {
   "cell_type": "code",
   "execution_count": 18,
   "id": "78079c31",
   "metadata": {},
   "outputs": [
    {
     "name": "stderr",
     "output_type": "stream",
     "text": [
      "2023-03-29 14:44:39,201 - distributed.diskutils - INFO - Found stale lock file and directory '/var/folders/6v/nymwmjk912d8glyc17sfhddr0000gn/T/dask-worker-space/worker-xpth607h', purging\n",
      "2023-03-29 14:44:39,201 - distributed.diskutils - INFO - Found stale lock file and directory '/var/folders/6v/nymwmjk912d8glyc17sfhddr0000gn/T/dask-worker-space/worker-9ms7l088', purging\n",
      "2023-03-29 14:44:39,202 - distributed.diskutils - INFO - Found stale lock file and directory '/var/folders/6v/nymwmjk912d8glyc17sfhddr0000gn/T/dask-worker-space/worker-6zkkj07b', purging\n",
      "2023-03-29 14:44:39,203 - distributed.diskutils - INFO - Found stale lock file and directory '/var/folders/6v/nymwmjk912d8glyc17sfhddr0000gn/T/dask-worker-space/worker-kdh194xa', purging\n"
     ]
    },
    {
     "data": {
      "text/plain": [
       "<dask.config.set at 0x7f9d6e8a4d90>"
      ]
     },
     "execution_count": 18,
     "metadata": {},
     "output_type": "execute_result"
    }
   ],
   "source": [
    "# Create a cluster\n",
    "cluster = LocalCluster()\n",
    "client = Client(cluster)\n",
    "dask.config.set(scheduler='multiprocessing')"
   ]
  },
  {
   "cell_type": "code",
   "execution_count": 19,
   "id": "ea37ff47",
   "metadata": {},
   "outputs": [],
   "source": [
    "# Create a dask dataframe from the pandas dataframe\n",
    "ddf = dd.from_pandas(df_new, npartitions=16)\n",
    "ddf = ddf.map_partitions(xuly_vni)"
   ]
  },
  {
   "cell_type": "code",
   "execution_count": 20,
   "id": "d20dd245",
   "metadata": {},
   "outputs": [
    {
     "name": "stdout",
     "output_type": "stream",
     "text": [
      "Converting dask dataframe to pandas dataframe...\n",
      "[########################################] | 100% Completed | 221.11 s\n"
     ]
    }
   ],
   "source": [
    "# Convert the dask dataframe to pandas dataframe\n",
    "print('Converting dask dataframe to pandas dataframe...')\n",
    "with ProgressBar():\n",
    "    df = ddf.compute(num_workers=7)\n",
    "\n",
    "# Free up memory\n",
    "del ddf"
   ]
  },
  {
   "cell_type": "code",
   "execution_count": 21,
   "id": "3af246d1",
   "metadata": {
    "scrolled": true
   },
   "outputs": [],
   "source": [
    "#t1 = xuly_vni(df_t)"
   ]
  },
  {
   "cell_type": "code",
   "execution_count": 22,
   "id": "8fb3852a",
   "metadata": {},
   "outputs": [
    {
     "data": {
      "text/plain": [
       "0"
      ]
     },
     "execution_count": 22,
     "metadata": {},
     "output_type": "execute_result"
    }
   ],
   "source": [
    "df['description'].isnull().sum()"
   ]
  },
  {
   "cell_type": "code",
   "execution_count": 23,
   "id": "e2afd9e4",
   "metadata": {
    "scrolled": false
   },
   "outputs": [
    {
     "data": {
      "text/plain": [
       "'đồ nam phụ kiện thời đơn giản không thể thể mặc đồ nam đồ thể tập mát mẻ thoải mái giới thời phái set thể quần áo nam chiếm vị trí quan chàng thoải mái dạo phố hẹn hò bè đồ thể nam trở thành không thể mẹo giúp bảo quản quần áo nam đối sản phẩm quần áo giặt tiên màu quần áo giặt lộn mặt trái đảm bảo độ bền sản phẩm phù hợp giặt máy giặt không giặt đồ trắng đồ tối màu thông xuất xứ hàng hoá sở sản xuất đức chủ sở đức địa xóm xã trực nội huyện trực nam định thành vải linen thông kỹ thuật màu sắc đen trắng thông cảnh báo tất sản phẩm thời giặt sử dụng đảm bảo toàn hướng sử dụng hướng bảo quản không móc dị dạng phơi quần áo giặt lộn trái quần áo bền không giặt chất tẩy rửa sản xuất kết sản phẩm mô tả kiểu dáng hoàn toàn ảnh mẫu quần áo kiểm kĩ cẩn thận tư vấn nhiệt tình gói hàng quý hàng sẵn hàng đơn hoàn tiền sản phẩm không mô tả chấp đổi hàng không hỗ trợ đổi định màn hình kiện ánh màu sắc thực tế sản phẩm thể chênh lệch'"
      ]
     },
     "execution_count": 23,
     "metadata": {},
     "output_type": "execute_result"
    }
   ],
   "source": [
    "df.iloc[500]['description']"
   ]
  },
  {
   "cell_type": "code",
   "execution_count": 24,
   "id": "e9e7aa21",
   "metadata": {
    "scrolled": true
   },
   "outputs": [
    {
     "data": {
      "text/html": [
       "<div>\n",
       "<style scoped>\n",
       "    .dataframe tbody tr th:only-of-type {\n",
       "        vertical-align: middle;\n",
       "    }\n",
       "\n",
       "    .dataframe tbody tr th {\n",
       "        vertical-align: top;\n",
       "    }\n",
       "\n",
       "    .dataframe thead th {\n",
       "        text-align: right;\n",
       "    }\n",
       "</style>\n",
       "<table border=\"1\" class=\"dataframe\">\n",
       "  <thead>\n",
       "    <tr style=\"text-align: right;\">\n",
       "      <th></th>\n",
       "      <th>product_id</th>\n",
       "      <th>product_name</th>\n",
       "      <th>category</th>\n",
       "      <th>sub_category</th>\n",
       "      <th>link</th>\n",
       "      <th>image</th>\n",
       "      <th>price</th>\n",
       "      <th>rating</th>\n",
       "      <th>description</th>\n",
       "    </tr>\n",
       "  </thead>\n",
       "  <tbody>\n",
       "    <tr>\n",
       "      <th>0</th>\n",
       "      <td>231475</td>\n",
       "      <td>Bộ Quần Áo Thể Thao Thời Trang Nam Q5SHOP Form...</td>\n",
       "      <td>Thời Trang Nam</td>\n",
       "      <td>Đồ Bộ</td>\n",
       "      <td>https://shopee.vn/B%E1%BB%99-Qu%E1%BA%A7n-%C3%...</td>\n",
       "      <td>https://cf.shopee.vn/file/e96fe533edf419d544c7...</td>\n",
       "      <td>79000.0</td>\n",
       "      <td>4.9</td>\n",
       "      <td>giới thiệu quần áo kết hình ảnh chụp không đền...</td>\n",
       "    </tr>\n",
       "    <tr>\n",
       "      <th>1</th>\n",
       "      <td>232886</td>\n",
       "      <td>SÉT ĐỒ THỂ THAO NAM🚗 MẪU MONTER ĐỘC ĐÁO HÀNG B...</td>\n",
       "      <td>Thời Trang Nam</td>\n",
       "      <td>Đồ Bộ</td>\n",
       "      <td>https://shopee.vn/S%C3%89T-%C4%90%E1%BB%92-TH%...</td>\n",
       "      <td>https://cf.shopee.vn/file/b76fe4944cb0b0e6bb96...</td>\n",
       "      <td>59000.0</td>\n",
       "      <td>4.7</td>\n",
       "      <td>quần áo thể dãn mùa hè chất lạnh mẫu bảng sét ...</td>\n",
       "    </tr>\n",
       "    <tr>\n",
       "      <th>2</th>\n",
       "      <td>231261</td>\n",
       "      <td>Đồ Bộ hè nam 🚚 FREESHIP 🚚 Quần áo thể thao nam...</td>\n",
       "      <td>Thời Trang Nam</td>\n",
       "      <td>Đồ Bộ</td>\n",
       "      <td>https://shopee.vn/%C4%90%E1%BB%93-B%E1%BB%99-h...</td>\n",
       "      <td>https://cf.shopee.vn/file/b00adb38c9ec0584a434...</td>\n",
       "      <td>49000.0</td>\n",
       "      <td>4.7</td>\n",
       "      <td>ớng cân cân chất liệu vải mè thái giãn thoải m...</td>\n",
       "    </tr>\n",
       "    <tr>\n",
       "      <th>3</th>\n",
       "      <td>234333</td>\n",
       "      <td>ĐỒ BỘ NAM MẪU MỚI PHỐI 2 MÀU CỰC XINH 2021</td>\n",
       "      <td>Thời Trang Nam</td>\n",
       "      <td>Đồ Bộ</td>\n",
       "      <td>https://shopee.vn/%C4%90%E1%BB%92-B%E1%BB%98-N...</td>\n",
       "      <td>https://cf.shopee.vn/file/5e67f8abf497d148ae82...</td>\n",
       "      <td>69000.0</td>\n",
       "      <td>4.7</td>\n",
       "      <td>thị trường sỉ chào quý thông sản phẩm lưu thiế...</td>\n",
       "    </tr>\n",
       "    <tr>\n",
       "      <th>4</th>\n",
       "      <td>233867</td>\n",
       "      <td>Bộ nam mùa hè chất mát cổ tròn cộc tay</td>\n",
       "      <td>Thời Trang Nam</td>\n",
       "      <td>Đồ Bộ</td>\n",
       "      <td>https://shopee.vn/B%E1%BB%99-nam-m%C3%B9a-h%C3...</td>\n",
       "      <td>https://cf.shopee.vn/file/513604fee1ae595669da...</td>\n",
       "      <td>150000.0</td>\n",
       "      <td>5.0</td>\n",
       "      <td>sản phẩm thể nam thể nam thiết kế form chuẩn n...</td>\n",
       "    </tr>\n",
       "  </tbody>\n",
       "</table>\n",
       "</div>"
      ],
      "text/plain": [
       "   product_id                                       product_name  \\\n",
       "0      231475  Bộ Quần Áo Thể Thao Thời Trang Nam Q5SHOP Form...   \n",
       "1      232886  SÉT ĐỒ THỂ THAO NAM🚗 MẪU MONTER ĐỘC ĐÁO HÀNG B...   \n",
       "2      231261  Đồ Bộ hè nam 🚚 FREESHIP 🚚 Quần áo thể thao nam...   \n",
       "3      234333         ĐỒ BỘ NAM MẪU MỚI PHỐI 2 MÀU CỰC XINH 2021   \n",
       "4      233867             Bộ nam mùa hè chất mát cổ tròn cộc tay   \n",
       "\n",
       "         category sub_category  \\\n",
       "0  Thời Trang Nam        Đồ Bộ   \n",
       "1  Thời Trang Nam        Đồ Bộ   \n",
       "2  Thời Trang Nam        Đồ Bộ   \n",
       "3  Thời Trang Nam        Đồ Bộ   \n",
       "4  Thời Trang Nam        Đồ Bộ   \n",
       "\n",
       "                                                link  \\\n",
       "0  https://shopee.vn/B%E1%BB%99-Qu%E1%BA%A7n-%C3%...   \n",
       "1  https://shopee.vn/S%C3%89T-%C4%90%E1%BB%92-TH%...   \n",
       "2  https://shopee.vn/%C4%90%E1%BB%93-B%E1%BB%99-h...   \n",
       "3  https://shopee.vn/%C4%90%E1%BB%92-B%E1%BB%98-N...   \n",
       "4  https://shopee.vn/B%E1%BB%99-nam-m%C3%B9a-h%C3...   \n",
       "\n",
       "                                               image     price  rating  \\\n",
       "0  https://cf.shopee.vn/file/e96fe533edf419d544c7...   79000.0     4.9   \n",
       "1  https://cf.shopee.vn/file/b76fe4944cb0b0e6bb96...   59000.0     4.7   \n",
       "2  https://cf.shopee.vn/file/b00adb38c9ec0584a434...   49000.0     4.7   \n",
       "3  https://cf.shopee.vn/file/5e67f8abf497d148ae82...   69000.0     4.7   \n",
       "4  https://cf.shopee.vn/file/513604fee1ae595669da...  150000.0     5.0   \n",
       "\n",
       "                                         description  \n",
       "0  giới thiệu quần áo kết hình ảnh chụp không đền...  \n",
       "1  quần áo thể dãn mùa hè chất lạnh mẫu bảng sét ...  \n",
       "2  ớng cân cân chất liệu vải mè thái giãn thoải m...  \n",
       "3  thị trường sỉ chào quý thông sản phẩm lưu thiế...  \n",
       "4  sản phẩm thể nam thể nam thiết kế form chuẩn n...  "
      ]
     },
     "execution_count": 24,
     "metadata": {},
     "output_type": "execute_result"
    }
   ],
   "source": [
    "df.head()"
   ]
  },
  {
   "cell_type": "code",
   "execution_count": 25,
   "id": "41c09a23",
   "metadata": {},
   "outputs": [
    {
     "name": "stderr",
     "output_type": "stream",
     "text": [
      "2023-03-29 18:23:52,674 - tornado.application - ERROR - Exception in callback <bound method SystemMonitor.update of <SystemMonitor: cpu: 8 memory: 55 MB fds: 27>>\n",
      "Traceback (most recent call last):\n",
      "  File \"/Library/Frameworks/Python.framework/Versions/3.8/lib/python3.8/site-packages/tornado/ioloop.py\", line 921, in _run\n",
      "    val = self.callback()\n",
      "  File \"/Library/Frameworks/Python.framework/Versions/3.8/lib/python3.8/site-packages/distributed/system_monitor.py\", line 156, in update\n",
      "    net_ioc = psutil.net_io_counters()\n",
      "  File \"/Library/Frameworks/Python.framework/Versions/3.8/lib/python3.8/site-packages/psutil/__init__.py\", line 2114, in net_io_counters\n",
      "    rawdict = _psplatform.net_io_counters()\n",
      "OSError: [Errno 12] Cannot allocate memory\n"
     ]
    }
   ],
   "source": [
    "df.to_csv('project2_shopee_final.csv')"
   ]
  }
 ],
 "metadata": {
  "kernelspec": {
   "display_name": "Python 3 (ipykernel)",
   "language": "python",
   "name": "python3"
  },
  "language_info": {
   "codemirror_mode": {
    "name": "ipython",
    "version": 3
   },
   "file_extension": ".py",
   "mimetype": "text/x-python",
   "name": "python",
   "nbconvert_exporter": "python",
   "pygments_lexer": "ipython3",
   "version": "3.8.8"
  }
 },
 "nbformat": 4,
 "nbformat_minor": 5
}
